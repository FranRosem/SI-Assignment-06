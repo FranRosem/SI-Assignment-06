{
 "cells": [
  {
   "attachments": {},
   "cell_type": "markdown",
   "metadata": {},
   "source": [
    "## Assignment 06\n",
    "\n",
    "**Students:**\n",
    "- Franklin Ruben Rosembluth Prado\n",
    "- Sharon Sarai Maygua Mendiola"
   ]
  },
  {
   "cell_type": "code",
   "execution_count": 351,
   "metadata": {},
   "outputs": [],
   "source": [
    "import numpy as np\n",
    "import gym\n",
    "from gym import spaces\n",
    "import random\n",
    "from copy import copy\n",
    "from termcolor import colored, cprint\n",
    "import time\n",
    "import math\n",
    "from IPython.display import clear_output\n",
    "from matplotlib import pyplot as plt\n",
    "from matplotlib.colors import Normalize, ListedColormap\n",
    "from PIL import Image"
   ]
  },
  {
   "cell_type": "code",
   "execution_count": 352,
   "metadata": {},
   "outputs": [],
   "source": [
    "# 0 = empty_space; 1 = init_pos; 2 = goal_pos\n",
    "def create_map(size, init_position, goal_pos):\n",
    "    map = np.zeros((size[1], size[0]), dtype=np.int)\n",
    "    map[init_position[1], init_position[0]] = 1\n",
    "    map[goal_pos[1], goal_pos[0]] = 2\n",
    "    return map"
   ]
  },
  {
   "cell_type": "code",
   "execution_count": 353,
   "metadata": {},
   "outputs": [
    {
     "name": "stdout",
     "output_type": "stream",
     "text": [
      "[[0 0 0 0 0 0 0 0 0]\n",
      " [0 1 0 0 0 0 0 0 0]\n",
      " [0 0 0 0 0 0 0 0 0]\n",
      " [0 0 0 0 0 0 0 0 0]\n",
      " [0 0 0 0 0 0 0 2 0]\n",
      " [0 0 0 0 0 0 0 0 0]\n",
      " [0 0 0 0 0 0 0 0 0]]\n"
     ]
    }
   ],
   "source": [
    "map_size = (9, 7)\n",
    "init_pos = (1, 1)\n",
    "goal_pos = (7, 4)\n",
    "map = create_map(map_size, init_pos, goal_pos)\n",
    "print(map)"
   ]
  },
  {
   "cell_type": "code",
   "execution_count": 354,
   "metadata": {},
   "outputs": [
    {
     "name": "stdout",
     "output_type": "stream",
     "text": [
      "8 63\n",
      "(63, 8)\n"
     ]
    }
   ],
   "source": [
    "action_space_size = 8 #UP, RIGHT, DOWN, LEFT UP_RIGHT, ..., DOWN_LEFT\n",
    "state_space_size = map_size[0] * map_size[1] #AREA\n",
    "print(action_space_size, state_space_size)\n",
    "\n",
    "q_table = np.zeros((state_space_size, action_space_size))\n",
    "\n",
    "print(q_table.shape)"
   ]
  },
  {
   "cell_type": "code",
   "execution_count": 355,
   "metadata": {},
   "outputs": [
    {
     "data": {
      "image/png": "[encoded data removed]",
      "text/plain": [
       "<Figure size 370.286x288 with 1 Axes>"
      ]
     },
     "metadata": {
      "needs_background": "light"
     },
     "output_type": "display_data"
    }
   ],
   "source": [
    "def show_map(map):\n",
    "    row_labels, col_labels = range(map.shape[0]), range(map.shape[1])\n",
    "    cmap = ListedColormap(['white', 'blueviolet', 'yellowgreen'])\n",
    "    norm = Normalize(vmin=0, vmax=2)\n",
    "    plt.matshow(map, cmap=cmap, norm=norm)\n",
    "    plt.xticks(col_labels, col_labels)\n",
    "    plt.yticks(row_labels, row_labels)\n",
    "    plt.grid(color='k', linewidth=1)\n",
    "    init = np.where(map == 1)\n",
    "    plt.text(init[1][0], init[0][0], 'H', ha='center', va='center', color='white', weight='bold', fontsize=15)\n",
    "    goal = np.where(map == 2)\n",
    "    plt.text(goal[1][0], goal[0][0], 'S', ha='center', va='center', color='white', weight='bold', fontsize=15)\n",
    "    plt.show()\n",
    "\n",
    "show_map(map)"
   ]
  },
  {
   "cell_type": "code",
   "execution_count": 356,
   "metadata": {},
   "outputs": [
    {
     "name": "stdout",
     "output_type": "stream",
     "text": [
      "dict_keys(['aliceblue', 'antiquewhite', 'aqua', 'aquamarine', 'azure', 'beige', 'bisque', 'black', 'blanchedalmond', 'blue', 'blueviolet', 'brown', 'burlywood', 'cadetblue', 'chartreuse', 'chocolate', 'coral', 'cornflowerblue', 'cornsilk', 'crimson', 'cyan', 'darkblue', 'darkcyan', 'darkgoldenrod', 'darkgray', 'darkgreen', 'darkgrey', 'darkkhaki', 'darkmagenta', 'darkolivegreen', 'darkorange', 'darkorchid', 'darkred', 'darksalmon', 'darkseagreen', 'darkslateblue', 'darkslategray', 'darkslategrey', 'darkturquoise', 'darkviolet', 'deeppink', 'deepskyblue', 'dimgray', 'dimgrey', 'dodgerblue', 'firebrick', 'floralwhite', 'forestgreen', 'fuchsia', 'gainsboro', 'ghostwhite', 'gold', 'goldenrod', 'gray', 'green', 'greenyellow', 'grey', 'honeydew', 'hotpink', 'indianred', 'indigo', 'ivory', 'khaki', 'lavender', 'lavenderblush', 'lawngreen', 'lemonchiffon', 'lightblue', 'lightcoral', 'lightcyan', 'lightgoldenrodyellow', 'lightgray', 'lightgreen', 'lightgrey', 'lightpink', 'lightsalmon', 'lightseagreen', 'lightskyblue', 'lightslategray', 'lightslategrey', 'lightsteelblue', 'lightyellow', 'lime', 'limegreen', 'linen', 'magenta', 'maroon', 'mediumaquamarine', 'mediumblue', 'mediumorchid', 'mediumpurple', 'mediumseagreen', 'mediumslateblue', 'mediumspringgreen', 'mediumturquoise', 'mediumvioletred', 'midnightblue', 'mintcream', 'mistyrose', 'moccasin', 'navajowhite', 'navy', 'oldlace', 'olive', 'olivedrab', 'orange', 'orangered', 'orchid', 'palegoldenrod', 'palegreen', 'paleturquoise', 'palevioletred', 'papayawhip', 'peachpuff', 'peru', 'pink', 'plum', 'powderblue', 'purple', 'rebeccapurple', 'red', 'rosybrown', 'royalblue', 'saddlebrown', 'salmon', 'sandybrown', 'seagreen', 'seashell', 'sienna', 'silver', 'skyblue', 'slateblue', 'slategray', 'slategrey', 'snow', 'springgreen', 'steelblue', 'tan', 'teal', 'thistle', 'tomato', 'turquoise', 'violet', 'wheat', 'white', 'whitesmoke', 'yellow', 'yellowgreen'])\n"
     ]
    }
   ],
   "source": [
    "all_colors = plt.cm.colors.cnames.keys()\n",
    "print(all_colors)"
   ]
  },
  {
   "attachments": {},
   "cell_type": "markdown",
   "metadata": {},
   "source": [
    "Creating environment from:\n",
    "- https://www.gymlibrary.dev/content/environment_creation/"
   ]
  },
  {
   "cell_type": "code",
   "execution_count": 357,
   "metadata": {},
   "outputs": [],
   "source": [
    "class AzkabanEnviroment:\n",
    "    def __init__(self, map, size, init_pos, goal_pos, prob_A=0.9, prob_B=0.8, prob_C=0.9):\n",
    "        self.map = map\n",
    "        self.size = size\n",
    "        self.harry_pos = init_pos\n",
    "        self.sirius_pos = goal_pos\n",
    "        self.reset_map = map\n",
    "        self.reset_harry_pos = init_pos\n",
    "        self.action_space = spaces.Discrete(8)\n",
    "        self.observation_space = spaces.Discrete(self.map.shape[0] * self.map.shape[1])\n",
    "        self.prob_A = prob_A\n",
    "        self.prob_B = prob_B\n",
    "        self.prob_C = prob_C\n",
    "        self._action_to_direction = {\n",
    "            0: \"left\",\n",
    "            1: \"right\",\n",
    "            2: \"up\",\n",
    "            3: \"down\",\n",
    "            4: \"up_right\",\n",
    "            5: \"up_left\",\n",
    "            6: \"down_right\",\n",
    "            7: \"down_left\"\n",
    "        }\n",
    "        self.rewards = {\n",
    "            \"walk\": -1,\n",
    "            \"fall\": -5,\n",
    "            \"goal\": 100\n",
    "        }\n",
    "    \n",
    "    def get_rewards(self):\n",
    "        return self.rewards\n",
    "    \n",
    "    def set_rewards(self, walk , fall, goal):\n",
    "        self.rewards = {\n",
    "            \"walk\": walk,\n",
    "            \"fall\": fall,\n",
    "            \"goal\": goal\n",
    "        }\n",
    "\n",
    "    def __str__(self):\n",
    "        return f\"Harry Position: ({self.harry_pos[0]}, {self.harry_pos[1]})\\n\" + str(self.map)\n",
    "\n",
    "    def render(self):\n",
    "        row_labels, col_labels = range(map.shape[0]), range(map.shape[1])\n",
    "        cmap = ListedColormap(['white', 'blueviolet', 'yellowgreen'])\n",
    "        norm = Normalize(vmin=0, vmax=2)\n",
    "        plt.matshow(map, cmap=cmap, norm=norm)\n",
    "        plt.xticks(col_labels, col_labels)\n",
    "        plt.yticks(row_labels, row_labels)\n",
    "        plt.grid(color='k', linewidth=1)\n",
    "        init = np.where(map == 1)\n",
    "        plt.text(init[1][0], init[0][0], 'H', ha='center', va='center', color='white', weight='bold', fontsize=15)\n",
    "        goal = np.where(map == 2)\n",
    "        plt.text(goal[1][0], goal[0][0], 'S', ha='center', va='center', color='white', weight='bold', fontsize=15)\n",
    "        plt.show()\n",
    "    \n",
    "    def reset(self):\n",
    "        self.map = self.reset_map\n",
    "        self.harry_pos = self.reset_harry_pos\n",
    "        return ((10 * self.harry_pos[0]) + self.harry_pos[1]) #given state\n",
    "\n",
    "    def is_goal_state(self):\n",
    "        return self.harry_pos == self.sirius_pos\n",
    "    \n",
    "    def has_fallen_of_map(self):\n",
    "        x_range = np.array(range(self.size[0]))\n",
    "        y_range = np.array(range(self.size[1]))\n",
    "        return (self.harry_pos[0] not in x_range) or (self.harry_pos[1] not in y_range)\n",
    "    \n",
    "    def move_harry_right(self):\n",
    "        self.harry_pos = list(self.harry_pos)\n",
    "        self.harry_pos[0] += 1\n",
    "        self.harry_pos = list(self.harry_pos)\n",
    "        return self.get_move_result()\n",
    "\n",
    "    def move_harry_left(self):\n",
    "        self.harry_pos = list(self.harry_pos)\n",
    "        self.harry_pos[0] -= 1\n",
    "        self.harry_pos = list(self.harry_pos)\n",
    "        return self.get_move_result()\n",
    "    \n",
    "    def move_harry_up(self):\n",
    "        self.harry_pos = list(self.harry_pos)\n",
    "        self.harry_pos[1] -= 1\n",
    "        self.harry_pos = list(self.harry_pos)\n",
    "        return self.get_move_result()\n",
    "\n",
    "    def move_harry_down(self):\n",
    "        self.harry_pos = list(self.harry_pos)\n",
    "        self.harry_pos[1] += 1\n",
    "        self.harry_pos = tuple(self.harry_pos)\n",
    "        return self.get_move_result()\n",
    "    \n",
    "    def move_harry_up_right(self):\n",
    "        self.move_harry_up()\n",
    "        self.move_harry_right()\n",
    "        return self.get_move_result()\n",
    "\n",
    "    def move_harry_up_left(self):\n",
    "        self.move_harry_up()\n",
    "        self.move_harry_left()\n",
    "        return self.get_move_result()\n",
    "\n",
    "    def move_harry_down_right(self):\n",
    "        self.move_harry_down()\n",
    "        self.move_harry_right()\n",
    "        return self.get_move_result()\n",
    "\n",
    "    def move_harry_down_left(self):\n",
    "        self.move_harry_down()\n",
    "        self.move_harry_left()\n",
    "        return self.get_move_result()\n",
    "    \n",
    "    def get_move_result(self):\n",
    "        move = (10 * self.harry_pos[0] + self.harry_pos[1]) #state\n",
    "        if self.is_goal_state():\n",
    "            return move, self.rewards[\"goal\"], True\n",
    "        if self.has_fallen_of_map():\n",
    "            return move, self.rewards[\"fall\"], True\n",
    "        \n",
    "        self.map = create_map(self.size, self.harry_pos, self.sirius_pos)\n",
    "        return move, self.rewards[\"walk\"], False\n",
    "        \n",
    "    def step(self, action):\n",
    "        direction = self._action_to_direction[action]\n",
    "        if direction == \"left\":\n",
    "            new_state, reward, done = self.move_harry_left()\n",
    "        elif direction == \"right\":\n",
    "            new_state, reward, done = self.move_harry_right()\n",
    "        elif direction == \"up\":\n",
    "            new_state, reward, done = self.move_harry_up()\n",
    "        elif direction == \"down\":\n",
    "            new_state, reward, done = self.move_harry_down()\n",
    "        elif direction == \"up_right\":\n",
    "            new_state, reward, done = self.move_harry_up_right()\n",
    "        elif direction == \"up_left\":\n",
    "            new_state, reward, done = self.move_harry_up_left()\n",
    "        elif direction == \"down_right\":\n",
    "            new_state, reward, done = self.move_harry_down_right()\n",
    "        elif direction == \"down_left\":\n",
    "            new_state, reward, done = self.move_harry_down_left()\n",
    "            \n",
    "        # probability windy columns\n",
    "        if self.harry_pos[0] == 3:\n",
    "            random_number = np.random.rand()\n",
    "            if random_number <= self.prob_A:\n",
    "                new_state, reward, done = self.move_harry_up()\n",
    "\n",
    "        if self.harry_pos[0] == 4:\n",
    "            random_number = np.random.rand()\n",
    "            if random_number <= self.prob_B:\n",
    "                new_state, reward, done = self.move_harry_up()\n",
    "                new_state, reward, done = self.move_harry_up()\n",
    "\n",
    "        if self.harry_pos[0] == 5:\n",
    "            random_number = np.random.rand()\n",
    "            if random_number <= self.prob_C:\n",
    "                new_state, reward, done = self.move_harry_up()\n",
    "\n",
    "        return new_state, reward, done"
   ]
  },
  {
   "attachments": {},
   "cell_type": "markdown",
   "metadata": {},
   "source": [
    "Create Azkaban environment as follows:"
   ]
  },
  {
   "cell_type": "code",
   "execution_count": 358,
   "metadata": {},
   "outputs": [],
   "source": [
    "map_size = (9, 7)\n",
    "init_pos = (1, 1)\n",
    "goal_pos = (7, 4)\n",
    "azkaban_map = create_map(map_size, init_pos, goal_pos)\n",
    "env = AzkabanEnviroment(azkaban_map, map_size, init_pos, goal_pos)"
   ]
  },
  {
   "attachments": {},
   "cell_type": "markdown",
   "metadata": {},
   "source": [
    "Render the environment:"
   ]
  },
  {
   "cell_type": "code",
   "execution_count": 359,
   "metadata": {},
   "outputs": [
    {
     "data": {
      "image/png": "[encoded data removed]",
      "text/plain": [
       "<Figure size 370.286x288 with 1 Axes>"
      ]
     },
     "metadata": {
      "needs_background": "light"
     },
     "output_type": "display_data"
    }
   ],
   "source": [
    "env.render()"
   ]
  },
  {
   "attachments": {},
   "cell_type": "markdown",
   "metadata": {},
   "source": [
    "Get states and actions for the lake."
   ]
  },
  {
   "cell_type": "code",
   "execution_count": 360,
   "metadata": {},
   "outputs": [
    {
     "name": "stdout",
     "output_type": "stream",
     "text": [
      "(8, 63)\n"
     ]
    }
   ],
   "source": [
    "action_space_size = env.action_space.n\n",
    "state_space_size = env.observation_space.n\n",
    "\n",
    "print((action_space_size, state_space_size))"
   ]
  },
  {
   "attachments": {},
   "cell_type": "markdown",
   "metadata": {},
   "source": [
    "Move the agent: "
   ]
  },
  {
   "cell_type": "code",
   "execution_count": 361,
   "metadata": {},
   "outputs": [
    {
     "data": {
      "image/png": "[encoded data removed]",
      "text/plain": [
       "<Figure size 370.286x288 with 1 Axes>"
      ]
     },
     "metadata": {
      "needs_background": "light"
     },
     "output_type": "display_data"
    }
   ],
   "source": [
    "action = 1\n",
    "state = env.reset() #+10\n",
    "new_state, reward, done = env.step(action)\n",
    "env.render()"
   ]
  },
  {
   "cell_type": "code",
   "execution_count": null,
   "metadata": {},
   "outputs": [],
   "source": []
  },
  {
   "cell_type": "code",
   "execution_count": null,
   "metadata": {},
   "outputs": [],
   "source": []
  },
  {
   "cell_type": "code",
   "execution_count": null,
   "metadata": {},
   "outputs": [],
   "source": []
  },
  {
   "cell_type": "code",
   "execution_count": null,
   "metadata": {},
   "outputs": [],
   "source": []
  },
  {
   "cell_type": "code",
   "execution_count": null,
   "metadata": {},
   "outputs": [],
   "source": []
  }
 ],
 "metadata": {
  "kernelspec": {
   "display_name": "mytest",
   "language": "python",
   "name": "python3"
  },
  "language_info": {
   "codemirror_mode": {
    "name": "ipython",
    "version": 3
   },
   "file_extension": ".py",
   "mimetype": "text/x-python",
   "name": "python",
   "nbconvert_exporter": "python",
   "pygments_lexer": "ipython3",
   "version": "3.6.13"
  },
  "orig_nbformat": 4
 },
 "nbformat": 4,
 "nbformat_minor": 2
}
