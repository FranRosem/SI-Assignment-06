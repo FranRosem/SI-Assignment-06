{
 "cells": [
  {
   "attachments": {},
   "cell_type": "markdown",
   "metadata": {},
   "source": [
    "## Assignment 06\n",
    "\n",
    "**Students:**\n",
    "- Franklin Ruben Rosembluth Prado\n",
    "- Sharon Sarai Maygua Mendiola"
   ]
  },
  {
   "cell_type": "code",
   "execution_count": 1,
   "metadata": {},
   "outputs": [],
   "source": [
    "import numpy as np\n",
    "import gym\n",
    "from gym import spaces\n",
    "import random\n",
    "from copy import copy\n",
    "from termcolor import colored, cprint\n",
    "import time\n",
    "import math\n",
    "from IPython.display import clear_output\n",
    "from matplotlib import pyplot as plt\n",
    "from matplotlib.colors import Normalize, ListedColormap\n",
    "from PIL import Image"
   ]
  },
  {
   "cell_type": "code",
   "execution_count": 2,
   "metadata": {},
   "outputs": [],
   "source": [
    "# 0 = empty_space; 1 = init_pos; 2 = goal_pos\n",
    "def create_map(size, init_position, goal_pos):\n",
    "    map = np.zeros((size[1], size[0]), dtype=np.int)\n",
    "    map[init_position[1], init_position[0]] = 1\n",
    "    map[goal_pos[1], goal_pos[0]] = 2\n",
    "    return map"
   ]
  },
  {
   "cell_type": "code",
   "execution_count": 3,
   "metadata": {},
   "outputs": [
    {
     "name": "stdout",
     "output_type": "stream",
     "text": [
      "[[0 0 0 0 0 0 0 0 0]\n",
      " [0 1 0 0 0 0 0 0 0]\n",
      " [0 0 0 0 0 0 0 0 0]\n",
      " [0 0 0 0 0 0 0 0 0]\n",
      " [0 0 0 0 0 0 0 2 0]\n",
      " [0 0 0 0 0 0 0 0 0]\n",
      " [0 0 0 0 0 0 0 0 0]]\n"
     ]
    }
   ],
   "source": [
    "map_size = (9, 7)\n",
    "init_pos = (1, 1)\n",
    "goal_pos = (7, 4)\n",
    "map = create_map(map_size, init_pos, goal_pos)\n",
    "print(map)"
   ]
  },
  {
   "cell_type": "code",
   "execution_count": 4,
   "metadata": {},
   "outputs": [
    {
     "name": "stdout",
     "output_type": "stream",
     "text": [
      "8 63\n",
      "(63, 8)\n"
     ]
    }
   ],
   "source": [
    "action_space_size = 8 #UP, RIGHT, DOWN, LEFT UP_RIGHT, ..., DOWN_LEFT\n",
    "state_space_size = map_size[0] * map_size[1] #AREA\n",
    "print(action_space_size, state_space_size)\n",
    "\n",
    "q_table = np.zeros((state_space_size, action_space_size))\n",
    "\n",
    "print(q_table.shape)"
   ]
  },
  {
   "cell_type": "code",
   "execution_count": 5,
   "metadata": {},
   "outputs": [
    {
     "data": {
      "image/png": "[encoded data removed]",
      "text/plain": [
       "<Figure size 370.286x288 with 1 Axes>"
      ]
     },
     "metadata": {
      "needs_background": "light"
     },
     "output_type": "display_data"
    }
   ],
   "source": [
    "def show_map(map):\n",
    "    row_labels, col_labels = range(map.shape[0]), range(map.shape[1])\n",
    "    cmap = ListedColormap(['white', 'blueviolet', 'yellowgreen'])\n",
    "    norm = Normalize(vmin=0, vmax=2)\n",
    "    plt.matshow(map, cmap=cmap, norm=norm)\n",
    "    plt.xticks(col_labels, col_labels)\n",
    "    plt.yticks(row_labels, row_labels)\n",
    "    plt.grid(color='k', linewidth=1)\n",
    "    init = np.where(map == 1)\n",
    "    plt.text(init[1][0], init[0][0], 'H', ha='center', va='center', color='white', weight='bold', fontsize=15)\n",
    "    goal = np.where(map == 2)\n",
    "    plt.text(goal[1][0], goal[0][0], 'S', ha='center', va='center', color='white', weight='bold', fontsize=15)\n",
    "    plt.show()\n",
    "\n",
    "show_map(map)"
   ]
  },
  {
   "attachments": {},
   "cell_type": "markdown",
   "metadata": {},
   "source": [
    "Creating environment from:\n",
    "- https://www.gymlibrary.dev/content/environment_creation/"
   ]
  },
  {
   "cell_type": "code",
   "execution_count": 6,
   "metadata": {},
   "outputs": [],
   "source": [
    "class AzkabanEnviroment:\n",
    "    def __init__(self, map, size, init_pos, goal_pos, prob_A=0.9, prob_B=0.8, prob_C=0.9):\n",
    "        self.map = map\n",
    "        self.size = size\n",
    "        self.harry_pos = init_pos\n",
    "        self.sirius_pos = goal_pos\n",
    "        self.reset_map = map\n",
    "        self.reset_harry_pos = init_pos\n",
    "        self.action_space = spaces.Discrete(8)\n",
    "        self.observation_space = spaces.Discrete(self.map.shape[0] * self.map.shape[1])\n",
    "        self.prob_A = prob_A\n",
    "        self.prob_B = prob_B\n",
    "        self.prob_C = prob_C\n",
    "        self._action_to_direction = {\n",
    "            0: \"left\",\n",
    "            1: \"right\",\n",
    "            2: \"up\",\n",
    "            3: \"down\",\n",
    "            4: \"up_right\",\n",
    "            5: \"up_left\",\n",
    "            6: \"down_right\",\n",
    "            7: \"down_left\"\n",
    "        }\n",
    "        self.rewards = {\n",
    "            \"walk\": -1,\n",
    "            \"fall\": -10,\n",
    "            \"goal\": 100\n",
    "        }\n",
    "    \n",
    "    def get_actions(self, action):\n",
    "        return self._action_to_direction[action]\n",
    "    \n",
    "    def get_rewards(self):\n",
    "        return self.rewards\n",
    "    \n",
    "    def set_rewards(self, walk , fall, goal):\n",
    "        self.rewards = {\n",
    "            \"walk\": walk,\n",
    "            \"fall\": fall,\n",
    "            \"goal\": goal\n",
    "        }\n",
    "\n",
    "    def __str__(self):\n",
    "        return f\"Harry Position: ({self.harry_pos[0]}, {self.harry_pos[1]})\\n\" + str(self.map)\n",
    "\n",
    "    def render(self):\n",
    "        row_labels, col_labels = range(self.map.shape[0]), range(self.map.shape[1])\n",
    "        cmap = ListedColormap(['white', 'blueviolet', 'yellowgreen'])\n",
    "        norm = Normalize(vmin=0, vmax=2)\n",
    "        plt.matshow(self.map, cmap=cmap, norm=norm)\n",
    "        plt.xticks(col_labels, col_labels)\n",
    "        plt.yticks(row_labels, row_labels)\n",
    "        plt.grid(color='k', linewidth=1)\n",
    "        init = np.where(self.map == 1)\n",
    "        plt.text(init[1][0], init[0][0], 'H', ha='center', va='center', color='white', weight='bold', fontsize=15)\n",
    "        goal = np.where(self.map == 2)\n",
    "        plt.text(goal[1][0], goal[0][0], 'S', ha='center', va='center', color='white', weight='bold', fontsize=15)\n",
    "        plt.show()\n",
    "    \n",
    "    def reset(self):\n",
    "        self.map = self.reset_map\n",
    "        self.harry_pos = self.reset_harry_pos\n",
    "        return ((10 * self.harry_pos[1]) + self.harry_pos[1]) #given state\n",
    "\n",
    "    def is_goal_state(self):\n",
    "        return self.harry_pos == self.sirius_pos\n",
    "    \n",
    "    def has_fallen_of_map(self):\n",
    "        x_range = np.array(range(self.size[0]))\n",
    "        y_range = np.array(range(self.size[1]))\n",
    "        return (self.harry_pos[0] not in x_range) or (self.harry_pos[1] not in y_range)\n",
    "    \n",
    "    def move_harry_right(self):\n",
    "        self.harry_pos = list(self.harry_pos)\n",
    "        self.harry_pos[0] += 1\n",
    "        self.harry_pos = list(self.harry_pos)\n",
    "        return self.get_move_result()\n",
    "\n",
    "    def move_harry_left(self):\n",
    "        self.harry_pos = list(self.harry_pos)\n",
    "        self.harry_pos[0] -= 1\n",
    "        self.harry_pos = list(self.harry_pos)\n",
    "        return self.get_move_result()\n",
    "    \n",
    "    def move_harry_up(self):\n",
    "        self.harry_pos = list(self.harry_pos)\n",
    "        self.harry_pos[1] -= 1\n",
    "        self.harry_pos = list(self.harry_pos)\n",
    "        return self.get_move_result()\n",
    "\n",
    "    def move_harry_down(self):\n",
    "        self.harry_pos = list(self.harry_pos)\n",
    "        self.harry_pos[1] += 1\n",
    "        self.harry_pos = tuple(self.harry_pos)\n",
    "        return self.get_move_result()\n",
    "    \n",
    "    def move_harry_up_right(self):\n",
    "        self.move_harry_up()\n",
    "        self.move_harry_right()\n",
    "        return self.get_move_result()\n",
    "\n",
    "    def move_harry_up_left(self):\n",
    "        self.move_harry_up()\n",
    "        self.move_harry_left()\n",
    "        return self.get_move_result()\n",
    "\n",
    "    def move_harry_down_right(self):\n",
    "        self.move_harry_down()\n",
    "        self.move_harry_right()\n",
    "        return self.get_move_result()\n",
    "\n",
    "    def move_harry_down_left(self):\n",
    "        self.move_harry_down()\n",
    "        self.move_harry_left()\n",
    "        return self.get_move_result()\n",
    "    \n",
    "    def get_move_result(self):\n",
    "        new_state = 10 * self.harry_pos[0] + self.harry_pos[1] #state\n",
    "        if self.is_goal_state():\n",
    "            return new_state, self.rewards[\"goal\"], True\n",
    "        if self.has_fallen_of_map():\n",
    "            return new_state, self.rewards[\"fall\"], True\n",
    "        \n",
    "        self.map = create_map(self.size, self.harry_pos, self.sirius_pos)\n",
    "        return new_state, self.rewards[\"walk\"], False\n",
    "        \n",
    "    def step(self, action):\n",
    "        direction = self._action_to_direction[action]\n",
    "        if direction == \"left\":\n",
    "            new_state, reward, done = self.move_harry_left()\n",
    "        elif direction == \"right\":\n",
    "            new_state, reward, done = self.move_harry_right()\n",
    "        elif direction == \"up\":\n",
    "            new_state, reward, done = self.move_harry_up()\n",
    "        elif direction == \"down\":\n",
    "            new_state, reward, done = self.move_harry_down()\n",
    "        elif direction == \"up_right\":\n",
    "            new_state, reward, done = self.move_harry_up_right()\n",
    "        elif direction == \"up_left\":\n",
    "            new_state, reward, done = self.move_harry_up_left()\n",
    "        elif direction == \"down_right\":\n",
    "            new_state, reward, done = self.move_harry_down_right()\n",
    "        elif direction == \"down_left\":\n",
    "            new_state, reward, done = self.move_harry_down_left()\n",
    "            \n",
    "        # probability windy columns\n",
    "        if self.harry_pos[0] == 3:\n",
    "            random_number = np.random.rand()\n",
    "            if random_number <= self.prob_A:\n",
    "                new_state, reward, done = self.move_harry_up()\n",
    "            else:\n",
    "                new_state, reward, done = self.get_move_result()\n",
    "\n",
    "        if self.harry_pos[0] == 4:\n",
    "            random_number = np.random.rand()\n",
    "            if random_number <= self.prob_B:\n",
    "                new_state, reward, done = self.move_harry_up()\n",
    "                new_state, reward, done = self.move_harry_up()\n",
    "            else:\n",
    "                new_state, reward, done = self.get_move_result()\n",
    "\n",
    "        if self.harry_pos[0] == 5:\n",
    "            random_number = np.random.rand()\n",
    "            if random_number <= self.prob_C:\n",
    "                new_state, reward, done = self.move_harry_up()\n",
    "            else:\n",
    "                new_state, reward, done = self.get_move_result()\n",
    "\n",
    "        return new_state, reward, done\n",
    "    \n",
    "    def close(self):\n",
    "        clear_output(wait=True)"
   ]
  },
  {
   "attachments": {},
   "cell_type": "markdown",
   "metadata": {},
   "source": [
    "Create Azkaban environment as follows:"
   ]
  },
  {
   "cell_type": "code",
   "execution_count": 7,
   "metadata": {},
   "outputs": [],
   "source": [
    "map_size = (9, 7)\n",
    "init_pos = (1, 1)\n",
    "goal_pos = (7, 4)\n",
    "azkaban_map = create_map(map_size, init_pos, goal_pos)\n",
    "env = AzkabanEnviroment(azkaban_map, map_size, init_pos, goal_pos)"
   ]
  },
  {
   "attachments": {},
   "cell_type": "markdown",
   "metadata": {},
   "source": [
    "Render the environment:"
   ]
  },
  {
   "cell_type": "code",
   "execution_count": 8,
   "metadata": {},
   "outputs": [
    {
     "data": {
      "image/png": "[encoded data removed]",
      "text/plain": [
       "<Figure size 370.286x288 with 1 Axes>"
      ]
     },
     "metadata": {
      "needs_background": "light"
     },
     "output_type": "display_data"
    }
   ],
   "source": [
    "env.render()"
   ]
  },
  {
   "attachments": {},
   "cell_type": "markdown",
   "metadata": {},
   "source": [
    "Get states and actions for the lake."
   ]
  },
  {
   "cell_type": "code",
   "execution_count": 9,
   "metadata": {},
   "outputs": [
    {
     "name": "stdout",
     "output_type": "stream",
     "text": [
      "(8, 63)\n"
     ]
    }
   ],
   "source": [
    "action_space_size = env.action_space.n\n",
    "state_space_size = env.observation_space.n\n",
    "\n",
    "print((action_space_size, state_space_size))"
   ]
  },
  {
   "attachments": {},
   "cell_type": "markdown",
   "metadata": {},
   "source": [
    "Move the agent: "
   ]
  },
  {
   "cell_type": "code",
   "execution_count": 10,
   "metadata": {},
   "outputs": [
    {
     "name": "stdout",
     "output_type": "stream",
     "text": [
      "up_left\n"
     ]
    },
    {
     "data": {
      "image/png": "[encoded data removed]",
      "text/plain": [
       "<Figure size 370.286x288 with 1 Axes>"
      ]
     },
     "metadata": {
      "needs_background": "light"
     },
     "output_type": "display_data"
    }
   ],
   "source": [
    "action = env.action_space.sample()\n",
    "state = env.reset() #*10\n",
    "new_state, reward, done = env.step(action)\n",
    "print(env.get_actions(action))\n",
    "env.render()"
   ]
  },
  {
   "attachments": {},
   "cell_type": "markdown",
   "metadata": {},
   "source": [
    "Initialize some parameters."
   ]
  },
  {
   "cell_type": "code",
   "execution_count": 11,
   "metadata": {},
   "outputs": [
    {
     "name": "stdout",
     "output_type": "stream",
     "text": [
      "(120, 8)\n"
     ]
    }
   ],
   "source": [
    "num_episodes = 2000 #15000\n",
    "max_steps_per_episode = 500 #100\n",
    "\n",
    "learning_rate = 0.1\n",
    "discount_rate = 0.95\n",
    "\n",
    "rewards_avg = []\n",
    "\n",
    "state_space_size = 120\n",
    "q_table = np.zeros((state_space_size, action_space_size))\n",
    "\n",
    "print(q_table.shape)"
   ]
  },
  {
   "attachments": {},
   "cell_type": "markdown",
   "metadata": {},
   "source": [
    "Run Q-Learning algorithm:"
   ]
  },
  {
   "cell_type": "code",
   "execution_count": 12,
   "metadata": {},
   "outputs": [],
   "source": [
    "def train_q_table(env, rewards_avg, iteration=100):\n",
    "    for it in range(iteration):\n",
    "        print('average ', it )\n",
    "        rewards_all_episodes=[]\n",
    "\n",
    "        # exporation-exploitation trade-off params\n",
    "        exploration_rate = 1\n",
    "        max_exploration_rate = 1\n",
    "        min_exploration_rate = 0.01\n",
    "        exploration_decay_rate = 0.005\n",
    "\n",
    "        # init q table in zeros\n",
    "        q_table = np.zeros((state_space_size, action_space_size))\n",
    "\n",
    "        # iterate over the episodes\n",
    "        for episode in range(num_episodes):\n",
    "            state = env.reset()\n",
    "            done = False\n",
    "            rewards_current_episode = 0\n",
    "\n",
    "            # iterate over the steps for an episode\n",
    "            for step in range(max_steps_per_episode):\n",
    "                # Exploration-exploitation trade-off\n",
    "                exploration_rate_threshold = np.random.rand()\n",
    "                if exploration_rate_threshold <= exploration_rate:\n",
    "                    action = np.random.randint(0, action_space_size) # Explotation time\n",
    "                else:\n",
    "                    action = np.argmax(q_table[state]) # Explotation time\n",
    "\n",
    "                # Take action\n",
    "                new_state, reward, done = env.step(action)\n",
    "\n",
    "                # Update Q-table for Q(s,a)\n",
    "                q_table[state, action] = (1-learning_rate) * q_table[state, action] + learning_rate * (reward + discount_rate * np.max(q_table[new_state]))\n",
    "                \n",
    "                # transition next state\n",
    "                state = new_state\n",
    "                rewards_current_episode += reward\n",
    "\n",
    "                if done == True: \n",
    "                    break\n",
    "\n",
    "\n",
    "            # Exploration rate decay\n",
    "            exploration_rate = min_exploration_rate + (max_exploration_rate - min_exploration_rate) * (np.exp(-exploration_decay_rate * episode)) #your code here\n",
    "            #env.render()\n",
    "            rewards_all_episodes.append(rewards_current_episode)\n",
    "\n",
    "        rewards_avg.append(rewards_all_episodes)\n",
    "    return q_table"
   ]
  },
  {
   "cell_type": "code",
   "execution_count": 13,
   "metadata": {},
   "outputs": [
    {
     "name": "stdout",
     "output_type": "stream",
     "text": [
      "average  0\n",
      "average  1\n",
      "average  2\n",
      "average  3\n",
      "average  4\n",
      "average  5\n",
      "average  6\n",
      "average  7\n",
      "average  8\n",
      "average  9\n",
      "average  10\n",
      "average  11\n",
      "average  12\n",
      "average  13\n",
      "average  14\n",
      "average  15\n",
      "average  16\n",
      "average  17\n",
      "average  18\n",
      "average  19\n",
      "average  20\n",
      "average  21\n",
      "average  22\n",
      "average  23\n",
      "average  24\n",
      "average  25\n",
      "average  26\n",
      "average  27\n",
      "average  28\n",
      "average  29\n",
      "average  30\n",
      "average  31\n",
      "average  32\n",
      "average  33\n",
      "average  34\n",
      "average  35\n",
      "average  36\n",
      "average  37\n",
      "average  38\n",
      "average  39\n",
      "average  40\n",
      "average  41\n",
      "average  42\n",
      "average  43\n",
      "average  44\n",
      "average  45\n",
      "average  46\n",
      "average  47\n",
      "average  48\n",
      "average  49\n"
     ]
    }
   ],
   "source": [
    "# Applying Q-learning\n",
    "walk_reward = -1\n",
    "fall_reward = -10\n",
    "goal_reward = 100\n",
    "rewards_avg_test = []\n",
    "\n",
    "env.reset()\n",
    "env.set_rewards(walk_reward , fall_reward, goal_reward)\n",
    "q_table_1 = train_q_table(env, rewards_avg_test, 50)"
   ]
  },
  {
   "cell_type": "code",
   "execution_count": 14,
   "metadata": {},
   "outputs": [
    {
     "data": {
      "text/plain": [
       "[<matplotlib.lines.Line2D at 0x26a4257a5f8>]"
      ]
     },
     "execution_count": 14,
     "metadata": {},
     "output_type": "execute_result"
    },
    {
     "data": {
      "image/png": "[encoded data removed]",
      "text/plain": [
       "<Figure size 432x288 with 1 Axes>"
      ]
     },
     "metadata": {
      "needs_background": "light"
     },
     "output_type": "display_data"
    }
   ],
   "source": [
    "x = [i for i in range(0, num_episodes)]\n",
    "y = np.mean(rewards_avg_test, axis=0)\n",
    "plt.xlabel('Episodes')\n",
    "plt.ylabel('Reward')\n",
    "plt.plot(x, y,'o')"
   ]
  },
  {
   "cell_type": "code",
   "execution_count": 15,
   "metadata": {},
   "outputs": [
    {
     "data": {
      "image/png": "[encoded data removed]",
      "text/plain": [
       "<Figure size 370.286x288 with 1 Axes>"
      ]
     },
     "metadata": {
      "needs_background": "light"
     },
     "output_type": "display_data"
    }
   ],
   "source": [
    "env.render()"
   ]
  },
  {
   "cell_type": "code",
   "execution_count": 16,
   "metadata": {},
   "outputs": [
    {
     "name": "stdout",
     "output_type": "stream",
     "text": [
      "\n",
      "\n",
      "********Q-table********\n",
      "\n",
      "[[-4.09510000e+00 -2.54432475e+00 -5.21703100e+00 -2.50155314e+00\n",
      "  -3.43900000e+00 -5.21703100e+00  1.72448922e+01 -4.09510000e+00]\n",
      " [-6.86189404e+00  4.49934373e+01 -2.33842771e+00 -2.31298987e+00\n",
      "  -2.35799190e+00 -5.69532790e+00 -2.30297941e+00 -5.69532790e+00]\n",
      " [-4.68559000e+00 -2.15835449e+00 -2.14461384e+00 -2.11001176e+00\n",
      "   4.14973434e+01 -5.21703100e+00 -2.11161237e+00 -7.94108868e+00]\n",
      " [-5.69532790e+00 -1.68801956e+00 -1.64438410e+00 -1.66744180e+00\n",
      "  -1.72478786e+00 -3.43900000e+00 -1.63206721e+00 -3.43900000e+00]\n",
      " [-3.43900000e+00 -1.27146956e+00 -1.33481249e+00 -1.27213936e+00\n",
      "  -1.37652062e+00 -2.71000000e+00 -1.29164537e+00 -1.90000000e+00]\n",
      " [-1.90000000e+00 -9.87320099e-01 -1.00694854e+00 -9.66426524e-01\n",
      "  -9.80624384e-01 -4.09510000e+00 -8.98391371e-01 -2.71000000e+00]\n",
      " [-1.90000000e+00 -8.48567794e-01 -7.60768620e-01 -1.00000000e+00\n",
      "  -8.02282480e-01 -1.90000000e+00 -1.90000000e+00 -1.00000000e+00]\n",
      " [ 0.00000000e+00  0.00000000e+00  0.00000000e+00  0.00000000e+00\n",
      "   0.00000000e+00  0.00000000e+00  0.00000000e+00  0.00000000e+00]\n",
      " [ 0.00000000e+00  0.00000000e+00  0.00000000e+00  0.00000000e+00\n",
      "   0.00000000e+00  0.00000000e+00  0.00000000e+00  0.00000000e+00]\n",
      " [ 0.00000000e+00  0.00000000e+00  0.00000000e+00  0.00000000e+00\n",
      "   0.00000000e+00  0.00000000e+00  0.00000000e+00  0.00000000e+00]\n",
      " [-2.44375363e+00 -2.42824661e+00 -6.12579511e+00  2.04164546e+01\n",
      "  -6.12579511e+00 -6.86189404e+00 -2.42292609e+00 -2.45798438e+00]\n",
      " [ 1.41724947e+01  2.23888037e+01 -1.40029672e-01 -1.37734632e+00\n",
      "  -5.97759060e-01 -1.20404884e+00  8.41798958e+01  1.09022114e+01]\n",
      " [-2.05513355e+00 -2.09617880e+00  3.41656758e+01 -2.06956142e+00\n",
      "  -2.23293813e+00 -2.15063074e+00 -2.05083597e+00 -2.05517823e+00]\n",
      " [-1.66316461e+00 -1.65866059e+00 -1.79543003e+00 -1.66215464e+00\n",
      "   6.28844738e+00 -1.72325945e+00 -1.63197642e+00 -1.63023829e+00]\n",
      " [-1.30203917e+00 -1.25152707e+00 -1.23212145e+00 -1.22943942e+00\n",
      "  -1.37805929e+00 -1.30828760e+00 -1.20019905e+00 -1.25555376e+00]\n",
      " [-9.62210258e-01 -8.87595732e-01 -9.72674547e-01 -9.13519476e-01\n",
      "  -9.41751832e-01 -9.80247700e-01 -9.38779334e-01 -9.07647307e-01]\n",
      " [-7.83381660e-01 -7.63764206e-01 -7.09524212e-01 -1.00000000e+00\n",
      "  -7.21625430e-01 -7.68850682e-01 -2.71000000e+00 -2.71000000e+00]\n",
      " [ 0.00000000e+00  0.00000000e+00  0.00000000e+00  0.00000000e+00\n",
      "   0.00000000e+00  0.00000000e+00  0.00000000e+00  0.00000000e+00]\n",
      " [ 0.00000000e+00  0.00000000e+00  0.00000000e+00  0.00000000e+00\n",
      "   0.00000000e+00  0.00000000e+00  0.00000000e+00  0.00000000e+00]\n",
      " [ 0.00000000e+00  0.00000000e+00  0.00000000e+00  0.00000000e+00\n",
      "   0.00000000e+00  0.00000000e+00  0.00000000e+00  0.00000000e+00]\n",
      " [-2.45908808e+00 -6.41726092e+00 -6.12579511e+00  1.72090555e+01\n",
      "  -4.09510000e+00 -6.86189404e+00 -2.44243100e+00 -2.50812104e+00]\n",
      " [-2.37143879e+00 -2.08494122e+00 -2.37099885e+00  7.62202232e+01\n",
      "  -5.69532790e+00 -2.32503836e+00 -2.25390152e+00 -2.26039282e+00]\n",
      " [ 4.89181566e+00  7.94856636e+00  2.36457469e+01  3.37164793e+00\n",
      "   4.30418693e+00  1.44674253e+01  8.96636192e+01 -2.13970873e+00]\n",
      " [-1.45263632e+00 -1.43843043e+00  5.13727392e+01 -1.42243555e+00\n",
      "  -1.51211883e+00 -1.49779284e+00  2.40378993e+00 -1.47304972e+00]\n",
      " [-1.20481114e+00 -9.78759417e-01 -1.11311350e+00 -9.99662160e-01\n",
      "  -1.00478264e+00 -1.17001790e+00  6.52809206e-02 -1.03901764e+00]\n",
      " [-7.38995640e-01 -6.83254363e-01 -6.97730258e-01 -6.70436211e-01\n",
      "  -7.19641322e-01 -7.62485883e-01 -6.66532030e-01 -7.43692128e-01]\n",
      " [-5.46322870e-01 -5.20006013e-01 -4.48677194e-01 -2.71000000e+00\n",
      "  -4.98878446e-01 -4.79763445e-01 -1.24390000e+00 -2.71000000e+00]\n",
      " [ 0.00000000e+00  0.00000000e+00  0.00000000e+00  0.00000000e+00\n",
      "   0.00000000e+00  0.00000000e+00  0.00000000e+00  0.00000000e+00]\n",
      " [ 0.00000000e+00  0.00000000e+00  0.00000000e+00  0.00000000e+00\n",
      "   0.00000000e+00  0.00000000e+00  0.00000000e+00  0.00000000e+00]\n",
      " [ 0.00000000e+00  0.00000000e+00  0.00000000e+00  0.00000000e+00\n",
      "   0.00000000e+00  0.00000000e+00  0.00000000e+00  0.00000000e+00]\n",
      " [-2.52731047e+00 -5.63433914e+00 -4.09510000e+00 -2.56660253e+00\n",
      "  -5.21703100e+00 -3.43900000e+00 -3.50461000e+00  3.42658224e+01]\n",
      " [-1.87435656e+00 -5.30790741e+00 -4.72060161e+00 -1.93118339e+00\n",
      "  -4.69624834e+00 -1.97823359e+00  9.22461560e+00 -1.86296126e+00]\n",
      " [ 1.43460709e+01  7.48790543e+00  9.05125507e-01  2.03379628e+01\n",
      "   8.66986136e-01  2.52490057e+01  9.54367846e+01  1.41450314e+01]\n",
      " [-9.05730349e-01  9.54212698e+01  7.33931765e+00 -7.99864889e-01\n",
      "  -8.87479992e-01 -1.02717189e+00 -8.03478274e-01 -7.77804130e-01]\n",
      " [-4.94998907e-01 -5.46927138e-01 -4.44148105e-01 -4.95024938e-01\n",
      "  -4.95522550e-01 -5.78271024e-01  1.74746763e+01 -4.50082020e-01]\n",
      " [-2.16647500e-01 -3.39722189e-01 -2.60177800e-01 -2.79550000e-01\n",
      "  -2.08952500e-01 -4.50890480e-01 -2.80500000e-01 -2.26984901e-01]\n",
      " [-1.18050000e-01 -1.09500000e-01  0.00000000e+00  0.00000000e+00\n",
      "  -1.00000000e-01  0.00000000e+00  0.00000000e+00 -1.00000000e+00]\n",
      " [ 0.00000000e+00  0.00000000e+00  0.00000000e+00  0.00000000e+00\n",
      "   0.00000000e+00  0.00000000e+00  0.00000000e+00  0.00000000e+00]\n",
      " [ 0.00000000e+00  0.00000000e+00  0.00000000e+00  0.00000000e+00\n",
      "   0.00000000e+00  0.00000000e+00  0.00000000e+00  0.00000000e+00]\n",
      " [ 0.00000000e+00  0.00000000e+00  0.00000000e+00  0.00000000e+00\n",
      "   0.00000000e+00  0.00000000e+00  0.00000000e+00  0.00000000e+00]\n",
      " [-2.75805677e+00 -3.43900000e+00 -1.90000000e+00 -2.71000000e+00\n",
      "  -5.21703100e+00 -3.43900000e+00  5.07612213e+01 -1.60011220e+00]\n",
      " [ 1.39756834e+00  2.26813667e+01 -2.73253953e+00  8.68312081e+00\n",
      "  -5.69532790e+00 -6.86189404e+00  1.01512929e+02  1.06999060e-01]\n",
      " [-5.09930119e-01 -3.71402500e-01 -1.90000000e+00  3.53411515e+01\n",
      "  -3.81432434e-01 -5.10904578e-01 -3.78195000e-01 -4.53389203e-01]\n",
      " [ 6.77362468e+00 -2.80500000e-01  2.34085831e+00 -1.99500000e-01\n",
      "   1.01510367e+02 -2.08505135e-01 -1.90000000e-01  7.80115665e+00]\n",
      " [-2.59556187e-01 -1.90000000e-01 -1.31998668e-01 -1.00000000e-01\n",
      "  -3.05295000e-01 -1.69177195e-01 -1.00000000e-01 -1.37715949e-01]\n",
      " [-1.00000000e-01 -1.00000000e-01 -1.18952500e-01 -1.09500000e-01\n",
      "   0.00000000e+00  0.00000000e+00  0.00000000e+00  0.00000000e+00]\n",
      " [ 0.00000000e+00  0.00000000e+00  0.00000000e+00  0.00000000e+00\n",
      "   0.00000000e+00  0.00000000e+00  0.00000000e+00  0.00000000e+00]\n",
      " [ 0.00000000e+00  0.00000000e+00  0.00000000e+00  0.00000000e+00\n",
      "   0.00000000e+00  0.00000000e+00  0.00000000e+00  0.00000000e+00]\n",
      " [ 0.00000000e+00  0.00000000e+00  0.00000000e+00  0.00000000e+00\n",
      "   0.00000000e+00  0.00000000e+00  0.00000000e+00  0.00000000e+00]\n",
      " [ 0.00000000e+00  0.00000000e+00  0.00000000e+00  0.00000000e+00\n",
      "   0.00000000e+00  0.00000000e+00  0.00000000e+00  0.00000000e+00]\n",
      " [-2.00143931e+00 -8.38775363e-01 -4.09510000e+00 -3.64529874e-01\n",
      "  -1.90000000e+00 -4.09510000e+00  8.14365830e+01  2.94880952e+00]\n",
      " [ 6.38756029e+00  5.19833781e+01 -4.31627049e+00  3.71477192e+01\n",
      "   1.61192828e+00  1.35719779e+00  1.07908591e+02  1.01307788e+01]\n",
      " [-4.01477882e-01  1.07900475e+02  3.86920255e+00  1.81176500e+01\n",
      "   8.07467005e+00 -1.90000000e+00 -1.90000000e-01 -3.92791509e-01]\n",
      " [-2.11745828e-01  6.69143914e+00 -1.00000000e-01 -1.00000000e-01\n",
      "  -1.09500000e-01 -2.31654455e-01 -1.00000000e-01 -1.28070937e-01]\n",
      " [-1.09500000e-01 -1.00000000e-01  0.00000000e+00  0.00000000e+00\n",
      "   0.00000000e+00  0.00000000e+00  0.00000000e+00  0.00000000e+00]\n",
      " [-1.09500000e-01  0.00000000e+00  0.00000000e+00  0.00000000e+00\n",
      "   0.00000000e+00  0.00000000e+00  0.00000000e+00  0.00000000e+00]\n",
      " [ 0.00000000e+00  0.00000000e+00  0.00000000e+00  0.00000000e+00\n",
      "   0.00000000e+00  0.00000000e+00  0.00000000e+00  0.00000000e+00]\n",
      " [ 0.00000000e+00  0.00000000e+00  0.00000000e+00  0.00000000e+00\n",
      "   0.00000000e+00  0.00000000e+00  0.00000000e+00  0.00000000e+00]\n",
      " [ 0.00000000e+00  0.00000000e+00  0.00000000e+00  0.00000000e+00\n",
      "   0.00000000e+00  0.00000000e+00  0.00000000e+00  0.00000000e+00]\n",
      " [ 0.00000000e+00  0.00000000e+00  0.00000000e+00  0.00000000e+00\n",
      "   0.00000000e+00  0.00000000e+00  0.00000000e+00  0.00000000e+00]\n",
      " [-1.90000000e+00 -4.19010000e-01 -1.00000000e+00 -4.26565445e-01\n",
      "  -1.00000000e+00 -1.90000000e+00  1.52528762e+01  7.48498371e-02]\n",
      " [-3.75051315e-01  1.59226186e-01 -2.89050000e-01  1.02659858e+02\n",
      "  -4.27560000e-01 -1.03267050e+00 -2.80500000e-01 -2.89050000e-01]\n",
      " [ 3.71046732e+01  2.46617804e+01  2.07718640e+01  5.32262684e+01\n",
      "   9.49553033e+00  1.13250729e+01  1.14640622e+02  3.73818848e+01]\n",
      " [ 1.32867652e+00  1.04404899e+02 -1.00000000e-01 -1.00000000e-01\n",
      "  -2.08050000e-01 -1.26647500e-01  1.02129695e+00 -1.90000000e-01]\n",
      " [ 3.91144662e-02 -1.00000000e-01  4.80984379e+01 -1.00000000e-01\n",
      "   0.00000000e+00  0.00000000e+00  0.00000000e+00  0.00000000e+00]\n",
      " [-1.00000000e-01  0.00000000e+00  0.00000000e+00  0.00000000e+00\n",
      "   0.00000000e+00  0.00000000e+00  0.00000000e+00  0.00000000e+00]\n",
      " [ 0.00000000e+00  0.00000000e+00  0.00000000e+00  0.00000000e+00\n",
      "   0.00000000e+00  0.00000000e+00  0.00000000e+00  0.00000000e+00]\n",
      " [ 0.00000000e+00  0.00000000e+00  0.00000000e+00  0.00000000e+00\n",
      "   0.00000000e+00  0.00000000e+00  0.00000000e+00  0.00000000e+00]\n",
      " [ 0.00000000e+00  0.00000000e+00  0.00000000e+00  0.00000000e+00\n",
      "   0.00000000e+00  0.00000000e+00  0.00000000e+00  0.00000000e+00]\n",
      " [ 0.00000000e+00  0.00000000e+00  0.00000000e+00  0.00000000e+00\n",
      "   0.00000000e+00  0.00000000e+00  0.00000000e+00  0.00000000e+00]\n",
      " [-2.15745000e-01 -1.90000000e-01 -2.71000000e+00 -1.99500000e-01\n",
      "  -1.00000000e+00 -1.00000000e+00 -1.90000000e-01 -1.25745000e-01]\n",
      " [-2.08050000e-01 -1.90000000e-01 -1.99500000e-01 -1.90000000e-01\n",
      "  -1.90000000e-01 -2.32123000e-01 -1.90000000e-01  6.28834939e+01]\n",
      " [-1.99500000e-01 -1.90000000e-01 -2.00402500e-01  7.98358439e+01\n",
      "  -1.00000000e-01 -1.09500000e-01 -1.00000000e-01 -1.90000000e-01]\n",
      " [ 4.64566108e+01  1.75168749e+00  2.04638815e+01  1.21726971e+02\n",
      "   2.74873460e+01  3.44939179e+01 -2.28963769e-01  1.43383268e+01]\n",
      " [ 4.88987052e-03 -1.00000000e-01  2.28704953e+01  0.00000000e+00\n",
      "   0.00000000e+00 -1.00000000e-01  0.00000000e+00  0.00000000e+00]\n",
      " [ 0.00000000e+00  0.00000000e+00  0.00000000e+00  0.00000000e+00\n",
      "  -7.42229805e-02  0.00000000e+00  0.00000000e+00  0.00000000e+00]\n",
      " [ 0.00000000e+00  0.00000000e+00  0.00000000e+00  0.00000000e+00\n",
      "   0.00000000e+00  0.00000000e+00  0.00000000e+00  0.00000000e+00]\n",
      " [ 0.00000000e+00  0.00000000e+00  0.00000000e+00  0.00000000e+00\n",
      "   0.00000000e+00  0.00000000e+00  0.00000000e+00  0.00000000e+00]\n",
      " [ 0.00000000e+00  0.00000000e+00  0.00000000e+00  0.00000000e+00\n",
      "   0.00000000e+00  0.00000000e+00  0.00000000e+00  0.00000000e+00]\n",
      " [ 0.00000000e+00  0.00000000e+00  0.00000000e+00  0.00000000e+00\n",
      "   0.00000000e+00  0.00000000e+00  0.00000000e+00  0.00000000e+00]\n",
      " [-1.00000000e-01 -1.00000000e+00 -1.00000000e+00 -1.00000000e-01\n",
      "  -1.00000000e+00  0.00000000e+00  0.00000000e+00  0.00000000e+00]\n",
      " [-1.00000000e-01 -1.00000000e+00 -1.00000000e-01 -1.00000000e-01\n",
      "  -1.00000000e+00 -1.00000000e-01 -1.00000000e+00  0.00000000e+00]\n",
      " [-1.99500000e-01 -1.00000000e+00 -1.00000000e-01  7.85502142e-01\n",
      "  -1.00000000e+00  0.00000000e+00  0.00000000e+00  7.90785968e+01]\n",
      " [-1.00000000e-01 -1.90000000e+00  1.97671032e+01  0.00000000e+00\n",
      "   0.00000000e+00  0.00000000e+00 -1.00000000e+00  0.00000000e+00]\n",
      " [ 2.48514721e+00 -1.00000000e+00  0.00000000e+00  0.00000000e+00\n",
      "   0.00000000e+00  0.00000000e+00 -1.00000000e+00 -1.00000000e-01]\n",
      " [ 0.00000000e+00  0.00000000e+00  0.00000000e+00  0.00000000e+00\n",
      "   0.00000000e+00  0.00000000e+00  0.00000000e+00  0.00000000e+00]\n",
      " [ 0.00000000e+00  0.00000000e+00  0.00000000e+00  0.00000000e+00\n",
      "   0.00000000e+00  0.00000000e+00  0.00000000e+00  0.00000000e+00]\n",
      " [ 0.00000000e+00  0.00000000e+00  0.00000000e+00  0.00000000e+00\n",
      "   0.00000000e+00  0.00000000e+00  0.00000000e+00  0.00000000e+00]\n",
      " [ 0.00000000e+00  0.00000000e+00  0.00000000e+00  0.00000000e+00\n",
      "   0.00000000e+00  0.00000000e+00  0.00000000e+00  0.00000000e+00]\n",
      " [ 0.00000000e+00  0.00000000e+00  0.00000000e+00  0.00000000e+00\n",
      "   0.00000000e+00  0.00000000e+00  0.00000000e+00  0.00000000e+00]\n",
      " [ 0.00000000e+00  0.00000000e+00  0.00000000e+00  0.00000000e+00\n",
      "   0.00000000e+00  0.00000000e+00  0.00000000e+00  0.00000000e+00]\n",
      " [ 0.00000000e+00  0.00000000e+00  0.00000000e+00  0.00000000e+00\n",
      "   0.00000000e+00  0.00000000e+00  0.00000000e+00  0.00000000e+00]\n",
      " [ 0.00000000e+00  0.00000000e+00  0.00000000e+00  0.00000000e+00\n",
      "   0.00000000e+00  0.00000000e+00  0.00000000e+00  0.00000000e+00]\n",
      " [ 0.00000000e+00  0.00000000e+00  0.00000000e+00  0.00000000e+00\n",
      "   0.00000000e+00  0.00000000e+00  0.00000000e+00  0.00000000e+00]\n",
      " [ 0.00000000e+00  0.00000000e+00  0.00000000e+00  0.00000000e+00\n",
      "   0.00000000e+00  0.00000000e+00  0.00000000e+00  0.00000000e+00]\n",
      " [ 0.00000000e+00  0.00000000e+00  0.00000000e+00  0.00000000e+00\n",
      "   0.00000000e+00  0.00000000e+00  0.00000000e+00  0.00000000e+00]\n",
      " [ 0.00000000e+00  0.00000000e+00  0.00000000e+00  0.00000000e+00\n",
      "   0.00000000e+00  0.00000000e+00  0.00000000e+00  0.00000000e+00]\n",
      " [ 0.00000000e+00  0.00000000e+00  0.00000000e+00  0.00000000e+00\n",
      "   0.00000000e+00  0.00000000e+00  0.00000000e+00  0.00000000e+00]\n",
      " [ 0.00000000e+00  0.00000000e+00  0.00000000e+00  0.00000000e+00\n",
      "   0.00000000e+00  0.00000000e+00  0.00000000e+00  0.00000000e+00]\n",
      " [ 0.00000000e+00  0.00000000e+00  0.00000000e+00  0.00000000e+00\n",
      "   0.00000000e+00  0.00000000e+00  0.00000000e+00  0.00000000e+00]\n",
      " [ 0.00000000e+00  0.00000000e+00  0.00000000e+00  0.00000000e+00\n",
      "   0.00000000e+00  0.00000000e+00  0.00000000e+00  0.00000000e+00]\n",
      " [ 0.00000000e+00  0.00000000e+00  0.00000000e+00  0.00000000e+00\n",
      "   0.00000000e+00  0.00000000e+00  0.00000000e+00  0.00000000e+00]\n",
      " [ 0.00000000e+00  0.00000000e+00  0.00000000e+00  0.00000000e+00\n",
      "   0.00000000e+00  0.00000000e+00  0.00000000e+00  0.00000000e+00]\n",
      " [ 0.00000000e+00  0.00000000e+00  0.00000000e+00  0.00000000e+00\n",
      "   0.00000000e+00  0.00000000e+00  0.00000000e+00  0.00000000e+00]\n",
      " [ 0.00000000e+00  0.00000000e+00  0.00000000e+00  0.00000000e+00\n",
      "   0.00000000e+00  0.00000000e+00  0.00000000e+00  0.00000000e+00]\n",
      " [ 0.00000000e+00  0.00000000e+00  0.00000000e+00  0.00000000e+00\n",
      "   0.00000000e+00  0.00000000e+00  0.00000000e+00  0.00000000e+00]\n",
      " [ 0.00000000e+00  0.00000000e+00  0.00000000e+00  0.00000000e+00\n",
      "   0.00000000e+00  0.00000000e+00  0.00000000e+00  0.00000000e+00]\n",
      " [ 0.00000000e+00  0.00000000e+00  0.00000000e+00  0.00000000e+00\n",
      "   0.00000000e+00  0.00000000e+00  0.00000000e+00  0.00000000e+00]\n",
      " [ 0.00000000e+00  0.00000000e+00  0.00000000e+00  0.00000000e+00\n",
      "   0.00000000e+00  0.00000000e+00  0.00000000e+00  0.00000000e+00]\n",
      " [ 0.00000000e+00  0.00000000e+00  0.00000000e+00  0.00000000e+00\n",
      "   0.00000000e+00  0.00000000e+00  0.00000000e+00  0.00000000e+00]\n",
      " [ 0.00000000e+00  0.00000000e+00  0.00000000e+00  0.00000000e+00\n",
      "   0.00000000e+00  0.00000000e+00  0.00000000e+00  0.00000000e+00]\n",
      " [ 0.00000000e+00  0.00000000e+00  0.00000000e+00  0.00000000e+00\n",
      "   0.00000000e+00  0.00000000e+00  0.00000000e+00  0.00000000e+00]\n",
      " [ 0.00000000e+00  0.00000000e+00  0.00000000e+00  0.00000000e+00\n",
      "   0.00000000e+00  0.00000000e+00  0.00000000e+00  0.00000000e+00]\n",
      " [ 0.00000000e+00  0.00000000e+00  0.00000000e+00  0.00000000e+00\n",
      "   0.00000000e+00  0.00000000e+00  0.00000000e+00  0.00000000e+00]\n",
      " [ 0.00000000e+00  0.00000000e+00  0.00000000e+00  0.00000000e+00\n",
      "   0.00000000e+00  0.00000000e+00  0.00000000e+00  0.00000000e+00]\n",
      " [ 0.00000000e+00  0.00000000e+00  0.00000000e+00  0.00000000e+00\n",
      "   0.00000000e+00  0.00000000e+00  0.00000000e+00  0.00000000e+00]\n",
      " [ 0.00000000e+00  0.00000000e+00  0.00000000e+00  0.00000000e+00\n",
      "   0.00000000e+00  0.00000000e+00  0.00000000e+00  0.00000000e+00]\n",
      " [ 0.00000000e+00  0.00000000e+00  0.00000000e+00  0.00000000e+00\n",
      "   0.00000000e+00  0.00000000e+00  0.00000000e+00  0.00000000e+00]\n",
      " [ 0.00000000e+00  0.00000000e+00  0.00000000e+00  0.00000000e+00\n",
      "   0.00000000e+00  0.00000000e+00  0.00000000e+00  0.00000000e+00]\n",
      " [ 0.00000000e+00  0.00000000e+00  0.00000000e+00  0.00000000e+00\n",
      "   0.00000000e+00  0.00000000e+00  0.00000000e+00  0.00000000e+00]]\n"
     ]
    }
   ],
   "source": [
    "# Print updated Q-table\n",
    "print(\"\\n\\n********Q-table********\\n\")\n",
    "print(q_table_1)"
   ]
  },
  {
   "cell_type": "code",
   "execution_count": 17,
   "metadata": {},
   "outputs": [
    {
     "name": "stdout",
     "output_type": "stream",
     "text": [
      "[[ 1.72448922e+01]\n",
      " [ 4.49934373e+01]\n",
      " [ 4.14973434e+01]\n",
      " [-1.63206721e+00]\n",
      " [-1.27146956e+00]\n",
      " [-8.98391371e-01]\n",
      " [-7.60768620e-01]\n",
      " [ 0.00000000e+00]\n",
      " [ 0.00000000e+00]\n",
      " [ 0.00000000e+00]\n",
      " [ 2.04164546e+01]\n",
      " [ 8.41798958e+01]\n",
      " [ 3.41656758e+01]\n",
      " [ 6.28844738e+00]\n",
      " [-1.20019905e+00]\n",
      " [-8.87595732e-01]\n",
      " [-7.09524212e-01]\n",
      " [ 0.00000000e+00]\n",
      " [ 0.00000000e+00]\n",
      " [ 0.00000000e+00]\n",
      " [ 1.72090555e+01]\n",
      " [ 7.62202232e+01]\n",
      " [ 8.96636192e+01]\n",
      " [ 5.13727392e+01]\n",
      " [ 6.52809206e-02]\n",
      " [-6.66532030e-01]\n",
      " [-4.48677194e-01]\n",
      " [ 0.00000000e+00]\n",
      " [ 0.00000000e+00]\n",
      " [ 0.00000000e+00]\n",
      " [ 3.42658224e+01]\n",
      " [ 9.22461560e+00]\n",
      " [ 9.54367846e+01]\n",
      " [ 9.54212698e+01]\n",
      " [ 1.74746763e+01]\n",
      " [-2.08952500e-01]\n",
      " [ 0.00000000e+00]\n",
      " [ 0.00000000e+00]\n",
      " [ 0.00000000e+00]\n",
      " [ 0.00000000e+00]\n",
      " [ 5.07612213e+01]\n",
      " [ 1.01512929e+02]\n",
      " [ 3.53411515e+01]\n",
      " [ 1.01510367e+02]\n",
      " [-1.00000000e-01]\n",
      " [ 0.00000000e+00]\n",
      " [ 0.00000000e+00]\n",
      " [ 0.00000000e+00]\n",
      " [ 0.00000000e+00]\n",
      " [ 0.00000000e+00]\n",
      " [ 8.14365830e+01]\n",
      " [ 1.07908591e+02]\n",
      " [ 1.07900475e+02]\n",
      " [ 6.69143914e+00]\n",
      " [ 0.00000000e+00]\n",
      " [ 0.00000000e+00]\n",
      " [ 0.00000000e+00]\n",
      " [ 0.00000000e+00]\n",
      " [ 0.00000000e+00]\n",
      " [ 0.00000000e+00]\n",
      " [ 1.52528762e+01]\n",
      " [ 1.02659858e+02]\n",
      " [ 1.14640622e+02]\n",
      " [ 1.04404899e+02]\n",
      " [ 4.80984379e+01]\n",
      " [ 0.00000000e+00]\n",
      " [ 0.00000000e+00]\n",
      " [ 0.00000000e+00]\n",
      " [ 0.00000000e+00]\n",
      " [ 0.00000000e+00]\n",
      " [-1.25745000e-01]\n",
      " [ 6.28834939e+01]\n",
      " [ 7.98358439e+01]\n",
      " [ 1.21726971e+02]\n",
      " [ 2.28704953e+01]\n",
      " [ 0.00000000e+00]\n",
      " [ 0.00000000e+00]\n",
      " [ 0.00000000e+00]\n",
      " [ 0.00000000e+00]\n",
      " [ 0.00000000e+00]\n",
      " [ 0.00000000e+00]\n",
      " [ 0.00000000e+00]\n",
      " [ 7.90785968e+01]\n",
      " [ 1.97671032e+01]\n",
      " [ 2.48514721e+00]\n",
      " [ 0.00000000e+00]\n",
      " [ 0.00000000e+00]\n",
      " [ 0.00000000e+00]\n",
      " [ 0.00000000e+00]\n",
      " [ 0.00000000e+00]\n",
      " [ 0.00000000e+00]\n",
      " [ 0.00000000e+00]\n",
      " [ 0.00000000e+00]\n",
      " [ 0.00000000e+00]\n",
      " [ 0.00000000e+00]\n",
      " [ 0.00000000e+00]\n",
      " [ 0.00000000e+00]\n",
      " [ 0.00000000e+00]\n",
      " [ 0.00000000e+00]\n",
      " [ 0.00000000e+00]\n",
      " [ 0.00000000e+00]\n",
      " [ 0.00000000e+00]\n",
      " [ 0.00000000e+00]\n",
      " [ 0.00000000e+00]\n",
      " [ 0.00000000e+00]\n",
      " [ 0.00000000e+00]\n",
      " [ 0.00000000e+00]\n",
      " [ 0.00000000e+00]\n",
      " [ 0.00000000e+00]\n",
      " [ 0.00000000e+00]\n",
      " [ 0.00000000e+00]\n",
      " [ 0.00000000e+00]\n",
      " [ 0.00000000e+00]\n",
      " [ 0.00000000e+00]\n",
      " [ 0.00000000e+00]\n",
      " [ 0.00000000e+00]\n",
      " [ 0.00000000e+00]\n",
      " [ 0.00000000e+00]\n",
      " [ 0.00000000e+00]\n",
      " [ 0.00000000e+00]]\n"
     ]
    }
   ],
   "source": [
    "index_array = np.argmax(q_table_1, axis=-1)\n",
    "best_moves = np.take_along_axis(q_table_1, np.expand_dims(index_array, axis=-1), axis=-1)\n",
    "print(best_moves)"
   ]
  },
  {
   "cell_type": "code",
   "execution_count": 18,
   "metadata": {},
   "outputs": [
    {
     "data": {
      "image/png": "[encoded data removed]",
      "text/plain": [
       "<Figure size 370.286x288 with 1 Axes>"
      ]
     },
     "metadata": {
      "needs_background": "light"
     },
     "output_type": "display_data"
    },
    {
     "ename": "KeyboardInterrupt",
     "evalue": "",
     "output_type": "error",
     "traceback": [
      "\u001b[1;31m---------------------------------------------------------------------------\u001b[0m",
      "\u001b[1;31mKeyboardInterrupt\u001b[0m                         Traceback (most recent call last)",
      "\u001b[1;32m<ipython-input-18-369184d87d44>\u001b[0m in \u001b[0;36m<module>\u001b[1;34m\u001b[0m\n\u001b[0;32m      8\u001b[0m         \u001b[0mclear_output\u001b[0m\u001b[1;33m(\u001b[0m\u001b[0mwait\u001b[0m\u001b[1;33m=\u001b[0m\u001b[1;32mTrue\u001b[0m\u001b[1;33m)\u001b[0m\u001b[1;33m\u001b[0m\u001b[1;33m\u001b[0m\u001b[0m\n\u001b[0;32m      9\u001b[0m         \u001b[0menv\u001b[0m\u001b[1;33m.\u001b[0m\u001b[0mrender\u001b[0m\u001b[1;33m(\u001b[0m\u001b[1;33m)\u001b[0m\u001b[1;33m\u001b[0m\u001b[1;33m\u001b[0m\u001b[0m\n\u001b[1;32m---> 10\u001b[1;33m         \u001b[0mtime\u001b[0m\u001b[1;33m.\u001b[0m\u001b[0msleep\u001b[0m\u001b[1;33m(\u001b[0m\u001b[1;36m0.3\u001b[0m\u001b[1;33m)\u001b[0m\u001b[1;33m\u001b[0m\u001b[1;33m\u001b[0m\u001b[0m\n\u001b[0m\u001b[0;32m     11\u001b[0m \u001b[1;33m\u001b[0m\u001b[0m\n\u001b[0;32m     12\u001b[0m         \u001b[0maction\u001b[0m \u001b[1;33m=\u001b[0m \u001b[0mnp\u001b[0m\u001b[1;33m.\u001b[0m\u001b[0margmax\u001b[0m\u001b[1;33m(\u001b[0m\u001b[0mq_table\u001b[0m\u001b[1;33m[\u001b[0m\u001b[0mstate\u001b[0m\u001b[1;33m,\u001b[0m\u001b[1;33m:\u001b[0m\u001b[1;33m]\u001b[0m\u001b[1;33m)\u001b[0m\u001b[1;33m\u001b[0m\u001b[1;33m\u001b[0m\u001b[0m\n",
      "\u001b[1;31mKeyboardInterrupt\u001b[0m: "
     ]
    }
   ],
   "source": [
    "for episode in range(50):\n",
    "    state = env.reset()\n",
    "    done = False\n",
    "    print(\"*****EPISODE \", episode+1, \"*****\\n\\n\\n\\n\")\n",
    "    time.sleep(1)\n",
    "    \n",
    "    for step in range(max_steps_per_episode):        \n",
    "        clear_output(wait=True)\n",
    "        env.render()\n",
    "        time.sleep(0.3)\n",
    "        \n",
    "        action = np.argmax(q_table[state,:])        \n",
    "        new_state, reward, done = env.step(action)\n",
    "        \n",
    "        if done:\n",
    "            clear_output(wait=True)\n",
    "            env.render()\n",
    "            if reward == goal_reward:\n",
    "                print(\"****You reached the goal!****\")\n",
    "                time.sleep(3)\n",
    "            elif reward == fall_reward:\n",
    "                print(\"****You fell through the map!****\")\n",
    "                time.sleep(1)\n",
    "                clear_output(wait=True)\n",
    "\n",
    "            break\n",
    "            \n",
    "        state = new_state\n",
    "        #env.close()"
   ]
  },
  {
   "cell_type": "code",
   "execution_count": null,
   "metadata": {},
   "outputs": [],
   "source": []
  }
 ],
 "metadata": {
  "kernelspec": {
   "display_name": "mytest",
   "language": "python",
   "name": "python3"
  },
  "language_info": {
   "codemirror_mode": {
    "name": "ipython",
    "version": 3
   },
   "file_extension": ".py",
   "mimetype": "text/x-python",
   "name": "python",
   "nbconvert_exporter": "python",
   "pygments_lexer": "ipython3",
   "version": "3.6.13"
  },
  "orig_nbformat": 4
 },
 "nbformat": 4,
 "nbformat_minor": 2
}
