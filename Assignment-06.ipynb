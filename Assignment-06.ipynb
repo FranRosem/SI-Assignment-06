{
 "cells": [
  {
   "attachments": {},
   "cell_type": "markdown",
   "metadata": {},
   "source": [
    "## Assignment 06\n",
    "\n",
    "**Students:**\n",
    "- Franklin Ruben Rosembluth Prado\n",
    "- Sharon Sarai Maygua Mendiola"
   ]
  },
  {
   "cell_type": "code",
   "execution_count": 479,
   "metadata": {},
   "outputs": [],
   "source": [
    "import numpy as np\n",
    "import gym\n",
    "from gym import spaces\n",
    "import random\n",
    "from copy import copy\n",
    "from termcolor import colored, cprint\n",
    "import time\n",
    "import math\n",
    "from IPython.display import clear_output\n",
    "from matplotlib import pyplot as plt\n",
    "from matplotlib.colors import Normalize, ListedColormap\n",
    "from PIL import Image"
   ]
  },
  {
   "cell_type": "code",
   "execution_count": 480,
   "metadata": {},
   "outputs": [],
   "source": [
    "# 0 = empty_space; 1 = init_pos; 2 = goal_pos\n",
    "def create_map(size, init_position, goal_pos):\n",
    "    map = np.zeros((size[1], size[0]), dtype=np.int)\n",
    "    map[init_position[1], init_position[0]] = 1\n",
    "    map[goal_pos[1], goal_pos[0]] = 2\n",
    "    return map"
   ]
  },
  {
   "cell_type": "code",
   "execution_count": 481,
   "metadata": {},
   "outputs": [
    {
     "name": "stdout",
     "output_type": "stream",
     "text": [
      "[[0 0 0 0 0 0 0 0 0]\n",
      " [0 1 0 0 0 0 0 0 0]\n",
      " [0 0 0 0 0 0 0 0 0]\n",
      " [0 0 0 0 0 0 0 0 0]\n",
      " [0 0 0 0 0 0 0 2 0]\n",
      " [0 0 0 0 0 0 0 0 0]\n",
      " [0 0 0 0 0 0 0 0 0]]\n"
     ]
    }
   ],
   "source": [
    "map_size = (9, 7)\n",
    "init_pos = (1, 1)\n",
    "goal_pos = (7, 4)\n",
    "map = create_map(map_size, init_pos, goal_pos)\n",
    "print(map)"
   ]
  },
  {
   "cell_type": "code",
   "execution_count": 482,
   "metadata": {},
   "outputs": [
    {
     "name": "stdout",
     "output_type": "stream",
     "text": [
      "8 63\n",
      "(63, 8)\n"
     ]
    }
   ],
   "source": [
    "action_space_size = 8 #UP, RIGHT, DOWN, LEFT UP_RIGHT, ..., DOWN_LEFT\n",
    "state_space_size = map_size[0] * map_size[1] #AREA\n",
    "print(action_space_size, state_space_size)\n",
    "\n",
    "q_table = np.zeros((state_space_size, action_space_size))\n",
    "\n",
    "print(q_table.shape)"
   ]
  },
  {
   "cell_type": "code",
   "execution_count": 483,
   "metadata": {},
   "outputs": [
    {
     "data": {
      "image/png": "[encoded data removed]",
      "text/plain": [
       "<Figure size 370.286x288 with 1 Axes>"
      ]
     },
     "metadata": {
      "needs_background": "light"
     },
     "output_type": "display_data"
    }
   ],
   "source": [
    "def show_map(map):\n",
    "    row_labels, col_labels = range(map.shape[0]), range(map.shape[1])\n",
    "    cmap = ListedColormap(['white', 'blueviolet', 'yellowgreen'])\n",
    "    norm = Normalize(vmin=0, vmax=2)\n",
    "    plt.matshow(map, cmap=cmap, norm=norm)\n",
    "    plt.xticks(col_labels, col_labels)\n",
    "    plt.yticks(row_labels, row_labels)\n",
    "    plt.grid(color='k', linewidth=1)\n",
    "    init = np.where(map == 1)\n",
    "    plt.text(init[1][0], init[0][0], 'H', ha='center', va='center', color='white', weight='bold', fontsize=15)\n",
    "    goal = np.where(map == 2)\n",
    "    plt.text(goal[1][0], goal[0][0], 'S', ha='center', va='center', color='white', weight='bold', fontsize=15)\n",
    "    plt.show()\n",
    "\n",
    "show_map(map)"
   ]
  },
  {
   "attachments": {},
   "cell_type": "markdown",
   "metadata": {},
   "source": [
    "Creating environment from:\n",
    "- https://www.gymlibrary.dev/content/environment_creation/"
   ]
  },
  {
   "cell_type": "code",
   "execution_count": 484,
   "metadata": {},
   "outputs": [],
   "source": [
    "class AzkabanEnviroment:\n",
    "    def __init__(self, map, size, init_pos, goal_pos, prob_A=0.9, prob_B=0.8, prob_C=0.9):\n",
    "        self.map = map\n",
    "        self.size = size\n",
    "        self.harry_pos = init_pos\n",
    "        self.sirius_pos = goal_pos\n",
    "        self.reset_map = map\n",
    "        self.reset_harry_pos = init_pos\n",
    "        self.action_space = spaces.Discrete(8)\n",
    "        self.observation_space = spaces.Discrete(self.map.shape[0] * self.map.shape[1])\n",
    "        self.prob_A = prob_A\n",
    "        self.prob_B = prob_B\n",
    "        self.prob_C = prob_C\n",
    "        self._action_to_direction = {\n",
    "            0: \"left\",\n",
    "            1: \"right\",\n",
    "            2: \"up\",\n",
    "            3: \"down\",\n",
    "            4: \"up_right\",\n",
    "            5: \"up_left\",\n",
    "            6: \"down_right\",\n",
    "            7: \"down_left\"\n",
    "        }\n",
    "        self.rewards = {\n",
    "            \"walk\": -1,\n",
    "            \"fall\": -5,\n",
    "            \"goal\": 100\n",
    "        }\n",
    "    \n",
    "    def get_actions(self, action):\n",
    "        return self._action_to_direction[action]\n",
    "    \n",
    "    def get_rewards(self):\n",
    "        return self.rewards\n",
    "    \n",
    "    def set_rewards(self, walk , fall, goal):\n",
    "        self.rewards = {\n",
    "            \"walk\": walk,\n",
    "            \"fall\": fall,\n",
    "            \"goal\": goal\n",
    "        }\n",
    "\n",
    "    def __str__(self):\n",
    "        return f\"Harry Position: ({self.harry_pos[0]}, {self.harry_pos[1]})\\n\" + str(self.map)\n",
    "\n",
    "    def render(self):\n",
    "        row_labels, col_labels = range(self.map.shape[0]), range(self.map.shape[1])\n",
    "        cmap = ListedColormap(['white', 'blueviolet', 'yellowgreen'])\n",
    "        norm = Normalize(vmin=0, vmax=2)\n",
    "        plt.matshow(self.map, cmap=cmap, norm=norm)\n",
    "        plt.xticks(col_labels, col_labels)\n",
    "        plt.yticks(row_labels, row_labels)\n",
    "        plt.grid(color='k', linewidth=1)\n",
    "        init = np.where(self.map == 1)\n",
    "        plt.text(init[1][0], init[0][0], 'H', ha='center', va='center', color='white', weight='bold', fontsize=15)\n",
    "        goal = np.where(self.map == 2)\n",
    "        plt.text(goal[1][0], goal[0][0], 'S', ha='center', va='center', color='white', weight='bold', fontsize=15)\n",
    "        plt.show()\n",
    "    \n",
    "    def reset(self):\n",
    "        self.map = self.reset_map\n",
    "        self.harry_pos = self.reset_harry_pos\n",
    "        return ((10 * self.harry_pos[0]) + self.harry_pos[1]) #given state\n",
    "\n",
    "    def is_goal_state(self):\n",
    "        return self.harry_pos == self.sirius_pos\n",
    "    \n",
    "    def has_fallen_of_map(self):\n",
    "        x_range = np.array(range(self.size[0]))\n",
    "        y_range = np.array(range(self.size[1]))\n",
    "        return (self.harry_pos[0] not in x_range) or (self.harry_pos[1] not in y_range)\n",
    "    \n",
    "    def move_harry_right(self):\n",
    "        self.harry_pos = list(self.harry_pos)\n",
    "        self.harry_pos[0] += 1\n",
    "        self.harry_pos = list(self.harry_pos)\n",
    "        return self.get_move_result()\n",
    "\n",
    "    def move_harry_left(self):\n",
    "        self.harry_pos = list(self.harry_pos)\n",
    "        self.harry_pos[0] -= 1\n",
    "        self.harry_pos = list(self.harry_pos)\n",
    "        return self.get_move_result()\n",
    "    \n",
    "    def move_harry_up(self):\n",
    "        self.harry_pos = list(self.harry_pos)\n",
    "        self.harry_pos[1] -= 1\n",
    "        self.harry_pos = list(self.harry_pos)\n",
    "        return self.get_move_result()\n",
    "\n",
    "    def move_harry_down(self):\n",
    "        self.harry_pos = list(self.harry_pos)\n",
    "        self.harry_pos[1] += 1\n",
    "        self.harry_pos = tuple(self.harry_pos)\n",
    "        return self.get_move_result()\n",
    "    \n",
    "    def move_harry_up_right(self):\n",
    "        self.move_harry_up()\n",
    "        self.move_harry_right()\n",
    "        return self.get_move_result()\n",
    "\n",
    "    def move_harry_up_left(self):\n",
    "        self.move_harry_up()\n",
    "        self.move_harry_left()\n",
    "        return self.get_move_result()\n",
    "\n",
    "    def move_harry_down_right(self):\n",
    "        self.move_harry_down()\n",
    "        self.move_harry_right()\n",
    "        return self.get_move_result()\n",
    "\n",
    "    def move_harry_down_left(self):\n",
    "        self.move_harry_down()\n",
    "        self.move_harry_left()\n",
    "        return self.get_move_result()\n",
    "    \n",
    "    def get_move_result(self):\n",
    "        move = (10 * self.harry_pos[0] + self.harry_pos[1]) #state\n",
    "        if self.is_goal_state():\n",
    "            return move, self.rewards[\"goal\"], True\n",
    "        if self.has_fallen_of_map():\n",
    "            return move, self.rewards[\"fall\"], True\n",
    "        \n",
    "        self.map = create_map(self.size, self.harry_pos, self.sirius_pos)\n",
    "        return move, self.rewards[\"walk\"], False\n",
    "        \n",
    "    def step(self, action):\n",
    "        direction = self._action_to_direction[action]\n",
    "        if direction == \"left\":\n",
    "            new_state, reward, done = self.move_harry_left()\n",
    "        elif direction == \"right\":\n",
    "            new_state, reward, done = self.move_harry_right()\n",
    "        elif direction == \"up\":\n",
    "            new_state, reward, done = self.move_harry_up()\n",
    "        elif direction == \"down\":\n",
    "            new_state, reward, done = self.move_harry_down()\n",
    "        elif direction == \"up_right\":\n",
    "            new_state, reward, done = self.move_harry_up_right()\n",
    "        elif direction == \"up_left\":\n",
    "            new_state, reward, done = self.move_harry_up_left()\n",
    "        elif direction == \"down_right\":\n",
    "            new_state, reward, done = self.move_harry_down_right()\n",
    "        elif direction == \"down_left\":\n",
    "            new_state, reward, done = self.move_harry_down_left()\n",
    "            \n",
    "        # probability windy columns\n",
    "        if self.harry_pos[0] == 3:\n",
    "            random_number = np.random.rand()\n",
    "            if random_number <= self.prob_A:\n",
    "                new_state, reward, done = self.move_harry_up()\n",
    "\n",
    "        if self.harry_pos[0] == 4:\n",
    "            random_number = np.random.rand()\n",
    "            if random_number <= self.prob_B:\n",
    "                new_state, reward, done = self.move_harry_up()\n",
    "                new_state, reward, done = self.move_harry_up()\n",
    "\n",
    "        if self.harry_pos[0] == 5:\n",
    "            random_number = np.random.rand()\n",
    "            if random_number <= self.prob_C:\n",
    "                new_state, reward, done = self.move_harry_up()\n",
    "\n",
    "        return new_state, reward, done"
   ]
  },
  {
   "attachments": {},
   "cell_type": "markdown",
   "metadata": {},
   "source": [
    "Create Azkaban environment as follows:"
   ]
  },
  {
   "cell_type": "code",
   "execution_count": 485,
   "metadata": {},
   "outputs": [],
   "source": [
    "map_size = (9, 7)\n",
    "init_pos = (1, 1)\n",
    "goal_pos = (7, 4)\n",
    "azkaban_map = create_map(map_size, init_pos, goal_pos)\n",
    "env = AzkabanEnviroment(azkaban_map, map_size, init_pos, goal_pos)"
   ]
  },
  {
   "attachments": {},
   "cell_type": "markdown",
   "metadata": {},
   "source": [
    "Render the environment:"
   ]
  },
  {
   "cell_type": "code",
   "execution_count": 486,
   "metadata": {},
   "outputs": [
    {
     "data": {
      "image/png": "[encoded data removed]",
      "text/plain": [
       "<Figure size 370.286x288 with 1 Axes>"
      ]
     },
     "metadata": {
      "needs_background": "light"
     },
     "output_type": "display_data"
    }
   ],
   "source": [
    "env.render()"
   ]
  },
  {
   "attachments": {},
   "cell_type": "markdown",
   "metadata": {},
   "source": [
    "Get states and actions for the lake."
   ]
  },
  {
   "cell_type": "code",
   "execution_count": 487,
   "metadata": {},
   "outputs": [
    {
     "name": "stdout",
     "output_type": "stream",
     "text": [
      "(8, 63)\n"
     ]
    }
   ],
   "source": [
    "action_space_size = env.action_space.n\n",
    "state_space_size = env.observation_space.n\n",
    "\n",
    "print((action_space_size, state_space_size))"
   ]
  },
  {
   "attachments": {},
   "cell_type": "markdown",
   "metadata": {},
   "source": [
    "Move the agent: "
   ]
  },
  {
   "cell_type": "code",
   "execution_count": 488,
   "metadata": {},
   "outputs": [
    {
     "name": "stdout",
     "output_type": "stream",
     "text": [
      "down_left\n"
     ]
    },
    {
     "data": {
      "image/png": "[encoded data removed]",
      "text/plain": [
       "<Figure size 370.286x288 with 1 Axes>"
      ]
     },
     "metadata": {
      "needs_background": "light"
     },
     "output_type": "display_data"
    }
   ],
   "source": [
    "action = env.action_space.sample()\n",
    "state = env.reset() #*10\n",
    "new_state, reward, done = env.step(action)\n",
    "print(env.get_actions(action))\n",
    "env.render()"
   ]
  },
  {
   "attachments": {},
   "cell_type": "markdown",
   "metadata": {},
   "source": [
    "Initialize some parameters."
   ]
  },
  {
   "cell_type": "code",
   "execution_count": 489,
   "metadata": {},
   "outputs": [
    {
     "name": "stdout",
     "output_type": "stream",
     "text": [
      "(63, 8)\n"
     ]
    }
   ],
   "source": [
    "num_episodes = 3000 #15000\n",
    "max_steps_per_episode = 200 #100\n",
    "\n",
    "learning_rate = 0.1\n",
    "discount_rate = 0.95\n",
    "\n",
    "rewards_avg = []\n",
    "\n",
    "q_table = np.zeros((state_space_size, action_space_size))\n",
    "\n",
    "print(q_table.shape)"
   ]
  },
  {
   "attachments": {},
   "cell_type": "markdown",
   "metadata": {},
   "source": [
    "Run Q-Learning algorithm:"
   ]
  },
  {
   "cell_type": "code",
   "execution_count": 490,
   "metadata": {},
   "outputs": [],
   "source": [
    "def train_q_table(env, rewards_avg, iteration=100):\n",
    "    for it in range(iteration):\n",
    "        print('average ', it )\n",
    "        rewards_all_episodes=[]\n",
    "\n",
    "        # exporation-exploitation trade-off params\n",
    "        exploration_rate = 1\n",
    "        max_exploration_rate = 1\n",
    "        min_exploration_rate = 0.01\n",
    "        exploration_decay_rate = 0.005\n",
    "\n",
    "        # init q table in zeros\n",
    "        q_table = np.zeros((100, action_space_size))\n",
    "\n",
    "        # iterate over the episodes\n",
    "        for episode in range(num_episodes):\n",
    "            state = env.reset()\n",
    "            done = False\n",
    "            rewards_current_episode = 0\n",
    "\n",
    "            # iterate over the steps for an episode\n",
    "            for step in range(max_steps_per_episode):\n",
    "                # Exploration-exploitation trade-off\n",
    "                exploration_rate_threshold = np.random.rand()\n",
    "                if exploration_rate_threshold <= exploration_rate:\n",
    "                    # Explotation time\n",
    "                    action = np.random.randint(0, action_space_size)\n",
    "                else:\n",
    "                    # Explotation time\n",
    "                    action = np.argmax(q_table[state])\n",
    "\n",
    "                # Take action\n",
    "                new_state, reward, done = env.step(action)\n",
    "\n",
    "                # Update Q-table for Q(s,a)\n",
    "                #q_table[state, action] = (1 - learning_rate) * q_table[state, action] + learning_rate * (reward + discount_rate * np.max(q_table[new_state]))\n",
    "                q_table[state, action] = (1-learning_rate) * q_table[state, action] + learning_rate * (reward + discount_rate * np.max(q_table[new_state]))\n",
    "                \n",
    "                # transition next state\n",
    "                state = new_state\n",
    "                rewards_current_episode += reward\n",
    "\n",
    "                if done == True: \n",
    "                    break\n",
    "\n",
    "\n",
    "            # Exploration rate decay\n",
    "            #exploration_rate = min_exploration_rate + (max_exploration_rate - min_exploration_rate) * (math.e ** (-exploration_decay_rate * episode))\n",
    "            exploration_rate = min_exploration_rate + (max_exploration_rate - min_exploration_rate) * (np.exp(-exploration_decay_rate * episode)) #your code here\n",
    "            rewards_all_episodes.append(rewards_current_episode)\n",
    "\n",
    "        rewards_avg.append(rewards_all_episodes)\n",
    "    return q_table"
   ]
  },
  {
   "cell_type": "code",
   "execution_count": 491,
   "metadata": {},
   "outputs": [
    {
     "name": "stdout",
     "output_type": "stream",
     "text": [
      "average  0\n",
      "average  1\n",
      "average  2\n",
      "average  3\n",
      "average  4\n",
      "average  5\n",
      "average  6\n",
      "average  7\n",
      "average  8\n",
      "average  9\n",
      "average  10\n",
      "average  11\n",
      "average  12\n",
      "average  13\n",
      "average  14\n",
      "average  15\n",
      "average  16\n",
      "average  17\n",
      "average  18\n",
      "average  19\n",
      "average  20\n",
      "average  21\n",
      "average  22\n",
      "average  23\n",
      "average  24\n",
      "average  25\n",
      "average  26\n",
      "average  27\n",
      "average  28\n",
      "average  29\n",
      "average  30\n",
      "average  31\n",
      "average  32\n",
      "average  33\n",
      "average  34\n",
      "average  35\n",
      "average  36\n",
      "average  37\n",
      "average  38\n",
      "average  39\n",
      "average  40\n",
      "average  41\n",
      "average  42\n",
      "average  43\n",
      "average  44\n",
      "average  45\n",
      "average  46\n",
      "average  47\n",
      "average  48\n",
      "average  49\n",
      "average  50\n",
      "average  51\n",
      "average  52\n",
      "average  53\n",
      "average  54\n",
      "average  55\n",
      "average  56\n",
      "average  57\n",
      "average  58\n",
      "average  59\n",
      "average  60\n",
      "average  61\n",
      "average  62\n",
      "average  63\n",
      "average  64\n",
      "average  65\n",
      "average  66\n",
      "average  67\n",
      "average  68\n",
      "average  69\n",
      "average  70\n",
      "average  71\n",
      "average  72\n",
      "average  73\n",
      "average  74\n",
      "average  75\n",
      "average  76\n",
      "average  77\n",
      "average  78\n",
      "average  79\n",
      "average  80\n",
      "average  81\n",
      "average  82\n",
      "average  83\n",
      "average  84\n",
      "average  85\n",
      "average  86\n",
      "average  87\n",
      "average  88\n",
      "average  89\n",
      "average  90\n",
      "average  91\n",
      "average  92\n",
      "average  93\n",
      "average  94\n",
      "average  95\n",
      "average  96\n",
      "average  97\n",
      "average  98\n",
      "average  99\n"
     ]
    }
   ],
   "source": [
    "# Applying Q-learning\n",
    "walk_reward = -1\n",
    "fall_reward = -10\n",
    "goal_reward = 100\n",
    "rewards_avg_test = []\n",
    "\n",
    "env.reset()\n",
    "env.set_rewards(walk_reward , fall_reward, goal_reward)\n",
    "q_table_1 = train_q_table(env, rewards_avg_test, 100)"
   ]
  },
  {
   "cell_type": "code",
   "execution_count": 494,
   "metadata": {},
   "outputs": [
    {
     "data": {
      "text/plain": [
       "[<matplotlib.lines.Line2D at 0x21cc18ee780>]"
      ]
     },
     "execution_count": 494,
     "metadata": {},
     "output_type": "execute_result"
    },
    {
     "data": {
      "image/png": "[encoded data removed]",
      "text/plain": [
       "<Figure size 432x288 with 1 Axes>"
      ]
     },
     "metadata": {
      "needs_background": "light"
     },
     "output_type": "display_data"
    }
   ],
   "source": [
    "x = [i for i in range(0, num_episodes)]\n",
    "y = np.mean(rewards_avg_test, axis=0)\n",
    "plt.xlabel('Episodes')\n",
    "plt.ylabel('Reward')\n",
    "plt.plot(x, y,'o')"
   ]
  },
  {
   "cell_type": "code",
   "execution_count": 495,
   "metadata": {},
   "outputs": [
    {
     "data": {
      "image/png": "[encoded data removed]",
      "text/plain": [
       "<Figure size 370.286x288 with 1 Axes>"
      ]
     },
     "metadata": {
      "needs_background": "light"
     },
     "output_type": "display_data"
    }
   ],
   "source": [
    "env.render()"
   ]
  },
  {
   "cell_type": "code",
   "execution_count": null,
   "metadata": {},
   "outputs": [],
   "source": []
  },
  {
   "cell_type": "code",
   "execution_count": null,
   "metadata": {},
   "outputs": [],
   "source": []
  },
  {
   "cell_type": "code",
   "execution_count": null,
   "metadata": {},
   "outputs": [],
   "source": []
  },
  {
   "cell_type": "code",
   "execution_count": null,
   "metadata": {},
   "outputs": [],
   "source": []
  },
  {
   "cell_type": "code",
   "execution_count": null,
   "metadata": {},
   "outputs": [],
   "source": []
  },
  {
   "cell_type": "code",
   "execution_count": null,
   "metadata": {},
   "outputs": [],
   "source": []
  }
 ],
 "metadata": {
  "kernelspec": {
   "display_name": "mytest",
   "language": "python",
   "name": "python3"
  },
  "language_info": {
   "codemirror_mode": {
    "name": "ipython",
    "version": 3
   },
   "file_extension": ".py",
   "mimetype": "text/x-python",
   "name": "python",
   "nbconvert_exporter": "python",
   "pygments_lexer": "ipython3",
   "version": "3.6.13"
  },
  "orig_nbformat": 4
 },
 "nbformat": 4,
 "nbformat_minor": 2
}
