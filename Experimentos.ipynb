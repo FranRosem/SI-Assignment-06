{
 "cells": [
  {
   "cell_type": "code",
   "execution_count": 82,
   "metadata": {},
   "outputs": [],
   "source": [
    "import numpy as np\n",
    "import gym\n",
    "from gym import spaces\n",
    "import random\n",
    "from copy import copy\n",
    "from termcolor import colored, cprint\n",
    "import time\n",
    "import math\n",
    "from IPython.display import clear_output\n",
    "from matplotlib import pyplot as plt\n",
    "from matplotlib.colors import Normalize, ListedColormap\n",
    "from PIL import Image"
   ]
  },
  {
   "cell_type": "code",
   "execution_count": 83,
   "metadata": {},
   "outputs": [],
   "source": [
    "# 0 = empty_space; 1 = init_pos; 2 = goal_pos\n",
    "def create_map(size, init_position, goal_pos):\n",
    "    map = np.zeros((size[1], size[0]), dtype=np.int)\n",
    "    map[init_position[1], init_position[0]] = 1\n",
    "    map[goal_pos[1], goal_pos[0]] = 2\n",
    "    return map"
   ]
  },
  {
   "cell_type": "code",
   "execution_count": 84,
   "metadata": {},
   "outputs": [
    {
     "name": "stdout",
     "output_type": "stream",
     "text": [
      "[[0 0 0 0 0 0 0 0 0]\n",
      " [0 1 0 0 0 0 0 0 0]\n",
      " [0 0 0 0 0 0 0 0 0]\n",
      " [0 0 0 0 0 0 0 0 0]\n",
      " [0 0 0 0 0 0 0 2 0]\n",
      " [0 0 0 0 0 0 0 0 0]\n",
      " [0 0 0 0 0 0 0 0 0]]\n"
     ]
    }
   ],
   "source": [
    "map_size = (9, 7)\n",
    "init_pos = (1, 1)\n",
    "goal_pos = (7, 4)\n",
    "map = create_map(map_size, init_pos, goal_pos)\n",
    "print(map)"
   ]
  },
  {
   "cell_type": "code",
   "execution_count": 85,
   "metadata": {},
   "outputs": [
    {
     "name": "stdout",
     "output_type": "stream",
     "text": [
      "left\n"
     ]
    }
   ],
   "source": [
    "# actions_dict = {0: 'up', 1: 'down', 2: 'left', 3: 'right', 4: 'up_right', 5: 'up_left', 6: 'down_right', 7: 'down_left'}\n",
    "actions = ['up', 'down', 'left', 'right', 'up_right', 'up_left', 'down_right', 'down_left']\n",
    "print(actions[2])"
   ]
  },
  {
   "cell_type": "code",
   "execution_count": 86,
   "metadata": {},
   "outputs": [],
   "source": [
    "def show_optimal_policy(map):\n",
    "    row_labels, col_labels = range(map.shape[0]), range(map.shape[1])\n",
    "    cmap = ListedColormap(['white', 'blueviolet', 'yellowgreen'])\n",
    "    norm = Normalize(vmin=0, vmax=2)\n",
    "    plt.matshow(map, cmap=cmap, norm=norm)\n",
    "    plt.xticks(col_labels, col_labels)\n",
    "    plt.yticks(row_labels, row_labels)\n",
    "    plt.grid(color='k', linewidth=1)\n",
    "    #init = np.where(map == 1)\n",
    "    #plt.text(init[1][0], init[0][0], 'H', ha='center', va='center', color='white', weight='bold', backgroundcolor='blueviolet', fontsize=20)\n",
    "    #goal = np.where(map == 2)\n",
    "    #plt.text(goal[1][0], goal[0][0], 'S', ha='center', va='center', color='white', weight='bold', backgroundcolor='yellowgreen', fontsize=20)\n",
    "    arrows = ['\\u2191', '\\u2193', '\\u2190', '\\u2192', '\\u2197', '\\u2196', '\\u2199', '\\u2198']\n",
    "    for i, row in enumerate(map):\n",
    "        for j, cell in enumerate(row):\n",
    "            if cell == 0:\n",
    "                plt.text(j, i, arrows[0], ha='center', va='center', color='black', weight='bold', backgroundcolor='lightblue', fontsize=20)\n",
    "            elif cell == 1:\n",
    "                plt.text(j, i, arrows[1], ha='center', va='center', color='black', weight='bold', backgroundcolor='lightblue', fontsize=20)\n",
    "            elif cell == 2:\n",
    "                plt.text(j, i, arrows[2], ha='center', va='center', color='black', backgroundcolor='lightblue', fontsize=20)\n",
    "            elif cell == 3:\n",
    "                plt.text(j, i, arrows[3], ha='center', va='center', color='black', backgroundcolor='lightblue', fontsize=20)\n",
    "            elif cell == 4:\n",
    "                plt.text(j, i, arrows[4], ha='center', va='center', color='black', backgroundcolor='lightblue', fontsize=20)\n",
    "            elif cell == 5:\n",
    "                plt.text(j, i, arrows[5], ha='center', va='center', color='black', backgroundcolor='lightblue', fontsize=20)\n",
    "            elif cell == 6:\n",
    "                plt.text(j, i, arrows[6], ha='center', va='center', color='black', backgroundcolor='lightblue', fontsize=20)\n",
    "            elif cell == 7:\n",
    "                plt.text(j, i, arrows[7], ha='center', va='center', color='black', backgroundcolor='lightblue', fontsize=20)\n",
    "    plt.show()"
   ]
  },
  {
   "cell_type": "code",
   "execution_count": 87,
   "metadata": {},
   "outputs": [],
   "source": [
    "class AzkabanEnviroment:\n",
    "    def __init__(self, map, init_pos, goal_pos, prob_A=0.9, prob_B=0.8, prob_C=0.9):\n",
    "        self.map = map\n",
    "        self.size = (self.map.shape[1], self.map.shape[0])\n",
    "        self.harry_pos = init_pos\n",
    "        self.sirius_pos = goal_pos\n",
    "        self.reset_map = map\n",
    "        self.reset_harry_pos = init_pos\n",
    "        self.action_space = spaces.Discrete(8)\n",
    "        self.observation_space = spaces.Discrete(self.map.shape[1] * self.map.shape[0])\n",
    "        self.prob_A = prob_A\n",
    "        self.prob_B = prob_B\n",
    "        self.prob_C = prob_C\n",
    "        self._action_to_direction = {\n",
    "            0: 'up', \n",
    "            1: 'down', \n",
    "            2: 'left', \n",
    "            3: 'right', \n",
    "            4: 'up_right', \n",
    "            5: 'up_left', \n",
    "            6: 'down_right', \n",
    "            7: 'down_left'\n",
    "        }\n",
    "        self._rewards = {\n",
    "            \"walk\": -1,\n",
    "            \"fall\": -10,\n",
    "            \"goal\": 100\n",
    "        }\n",
    "    \n",
    "    def get_actions(self, action):\n",
    "        return self._action_to_direction[action]\n",
    "    \n",
    "    def get_rewards(self):\n",
    "        return self._rewards\n",
    "    \n",
    "    def set_rewards(self, walk , fall, goal):\n",
    "        self._rewards = {\n",
    "            \"walk\": walk,\n",
    "            \"fall\": fall,\n",
    "            \"goal\": goal\n",
    "        }\n",
    "\n",
    "    def __str__(self):\n",
    "        return f\"Harry Position: ({self.harry_pos[0]}, {self.harry_pos[1]})\\n\" + str(self.map)\n",
    "\n",
    "    def render(self):\n",
    "        row_labels, col_labels = range(self.map.shape[0]), range(self.map.shape[1])\n",
    "        cmap = ListedColormap(['white', 'blueviolet', 'yellowgreen'])\n",
    "        norm = Normalize(vmin=0, vmax=2)\n",
    "        plt.matshow(self.map, cmap=cmap, norm=norm)\n",
    "        plt.xticks(col_labels, col_labels)\n",
    "        plt.yticks(row_labels, row_labels)\n",
    "        plt.grid(color='k', linewidth=1)\n",
    "        init = np.where(self.map == 1)\n",
    "        plt.text(init[1][0], init[0][0], 'H', ha='center', va='center', color='white', weight='bold', fontsize=15)\n",
    "        goal = np.where(self.map == 2)\n",
    "        plt.text(goal[1][0], goal[0][0], 'S', ha='center', va='center', color='white', weight='bold', fontsize=15)\n",
    "        plt.show()\n",
    "    \n",
    "    def reset(self):\n",
    "        self.map = self.reset_map\n",
    "        self.harry_pos = self.reset_harry_pos\n",
    "        return self.harry_pos[1] * self.size[1] + self.harry_pos[0] #10 * self.harry_pos[1] + self.harry_pos[1] #given state\n",
    "\n",
    "    def is_goal_state(self):\n",
    "        return self.harry_pos == self.sirius_pos\n",
    "    \n",
    "    def has_fallen_of_map(self):\n",
    "        x_range = np.array(range(self.size[0]))\n",
    "        y_range = np.array(range(self.size[1]))\n",
    "        return (self.harry_pos[0] not in x_range) or (self.harry_pos[1] not in y_range)\n",
    "    \n",
    "    def move_harry_right(self):\n",
    "        self.harry_pos = list(self.harry_pos)\n",
    "        self.harry_pos[0] += 1\n",
    "        self.harry_pos = list(self.harry_pos)\n",
    "        return self.get_move_result()\n",
    "\n",
    "    def move_harry_left(self):\n",
    "        self.harry_pos = list(self.harry_pos)\n",
    "        self.harry_pos[0] -= 1\n",
    "        self.harry_pos = list(self.harry_pos)\n",
    "        return self.get_move_result()\n",
    "    \n",
    "    def move_harry_up(self):\n",
    "        self.harry_pos = list(self.harry_pos)\n",
    "        self.harry_pos[1] -= 1\n",
    "        self.harry_pos = list(self.harry_pos)\n",
    "        return self.get_move_result()\n",
    "\n",
    "    def move_harry_down(self):\n",
    "        self.harry_pos = list(self.harry_pos)\n",
    "        self.harry_pos[1] += 1\n",
    "        self.harry_pos = tuple(self.harry_pos)\n",
    "        return self.get_move_result()\n",
    "    \n",
    "    def move_harry_up_right(self):\n",
    "        self.move_harry_up()\n",
    "        self.move_harry_right()\n",
    "        return self.get_move_result()\n",
    "\n",
    "    def move_harry_up_left(self):\n",
    "        self.move_harry_up()\n",
    "        self.move_harry_left()\n",
    "        return self.get_move_result()\n",
    "\n",
    "    def move_harry_down_right(self):\n",
    "        self.move_harry_down()\n",
    "        self.move_harry_right()\n",
    "        return self.get_move_result()\n",
    "\n",
    "    def move_harry_down_left(self):\n",
    "        self.move_harry_down()\n",
    "        self.move_harry_left()\n",
    "        return self.get_move_result()\n",
    "    \n",
    "    def get_move_result(self):\n",
    "        new_state = self.harry_pos[1] * self.size[1] + self.harry_pos[0]\n",
    "        if self.is_goal_state():\n",
    "            return new_state, self._rewards[\"goal\"], True\n",
    "        if self.has_fallen_of_map():\n",
    "            return new_state, self._rewards[\"fall\"], True\n",
    "        \n",
    "        self.map = create_map(self.size, self.harry_pos, self.sirius_pos)\n",
    "        return new_state, self._rewards[\"walk\"], False\n",
    "        \n",
    "    def step(self, action):\n",
    "        direction = self._action_to_direction[action]\n",
    "        if direction == \"left\":\n",
    "            new_state, reward, done = self.move_harry_left()\n",
    "        elif direction == \"right\":\n",
    "            new_state, reward, done = self.move_harry_right()\n",
    "        elif direction == \"up\":\n",
    "            new_state, reward, done = self.move_harry_up()\n",
    "        elif direction == \"down\":\n",
    "            new_state, reward, done = self.move_harry_down()\n",
    "        elif direction == \"up_right\":\n",
    "            new_state, reward, done = self.move_harry_up_right()\n",
    "        elif direction == \"up_left\":\n",
    "            new_state, reward, done = self.move_harry_up_left()\n",
    "        elif direction == \"down_right\":\n",
    "            new_state, reward, done = self.move_harry_down_right()\n",
    "        elif direction == \"down_left\":\n",
    "            new_state, reward, done = self.move_harry_down_left()\n",
    "            \n",
    "        # probability windy columns\n",
    "        if self.harry_pos[0] == 3:\n",
    "            random_number = np.random.rand()\n",
    "            if random_number <= self.prob_A:\n",
    "                new_state, reward, done = self.move_harry_up()\n",
    "            else:\n",
    "                new_state, reward, done = self.get_move_result()\n",
    "\n",
    "        if self.harry_pos[0] == 4:\n",
    "            random_number = np.random.rand()\n",
    "            if random_number <= self.prob_B:\n",
    "                new_state, reward, done = self.move_harry_up()\n",
    "                new_state, reward, done = self.move_harry_up()\n",
    "            else:\n",
    "                new_state, reward, done = self.get_move_result()\n",
    "\n",
    "        if self.harry_pos[0] == 5:\n",
    "            random_number = np.random.rand()\n",
    "            if random_number <= self.prob_C:\n",
    "                new_state, reward, done = self.move_harry_up()\n",
    "            else:\n",
    "                new_state, reward, done = self.get_move_result()\n",
    "\n",
    "        return new_state, reward, done\n",
    "    \n",
    "    def close(self):\n",
    "        clear_output(wait=True)"
   ]
  },
  {
   "cell_type": "code",
   "execution_count": 88,
   "metadata": {},
   "outputs": [
    {
     "data": {
      "image/png": "[encoded data removed]",
      "text/plain": [
       "<Figure size 370.286x288 with 1 Axes>"
      ]
     },
     "metadata": {
      "needs_background": "light"
     },
     "output_type": "display_data"
    }
   ],
   "source": [
    "map_size = (9, 7)\n",
    "init_pos = (1, 1)\n",
    "goal_pos = (7, 4)\n",
    "azkaban_map = create_map(map_size, init_pos, goal_pos)\n",
    "env = AzkabanEnviroment(azkaban_map, init_pos, goal_pos)\n",
    "env.render()"
   ]
  },
  {
   "cell_type": "code",
   "execution_count": 89,
   "metadata": {},
   "outputs": [
    {
     "name": "stdout",
     "output_type": "stream",
     "text": [
      "(8, 63)\n"
     ]
    }
   ],
   "source": [
    "action_space_size = env.action_space.n\n",
    "state_space_size = env.observation_space.n\n",
    "\n",
    "print((action_space_size, state_space_size))"
   ]
  },
  {
   "cell_type": "code",
   "execution_count": 90,
   "metadata": {},
   "outputs": [
    {
     "name": "stdout",
     "output_type": "stream",
     "text": [
      "down_right\n"
     ]
    },
    {
     "data": {
      "image/png": "[encoded data removed]",
      "text/plain": [
       "<Figure size 370.286x288 with 1 Axes>"
      ]
     },
     "metadata": {
      "needs_background": "light"
     },
     "output_type": "display_data"
    }
   ],
   "source": [
    "action = env.action_space.sample()\n",
    "state = env.reset()\n",
    "new_state, reward, done = env.step(action)\n",
    "print(env.get_actions(action))\n",
    "env.render()"
   ]
  },
  {
   "cell_type": "code",
   "execution_count": 91,
   "metadata": {},
   "outputs": [],
   "source": [
    "def policies_matrix(q_table, map):\n",
    "    state_best_actions =[]\n",
    "    arrow_matrix = []\n",
    "    for i in range(q_table.shape[0]):\n",
    "        max_pos = np.argmax(q_table[i])\n",
    "        state_best_actions.append(max_pos)\n",
    "    arrow_matrix = np.array(state_best_actions).reshape(map.shape[0], map.shape[1])\n",
    "    return arrow_matrix"
   ]
  },
  {
   "cell_type": "code",
   "execution_count": 92,
   "metadata": {},
   "outputs": [],
   "source": [
    "def show_optimal_policy(map):\n",
    "    row_labels, col_labels = range(map.shape[0]), range(map.shape[1])\n",
    "    cmap = ListedColormap(['white', 'blueviolet', 'yellowgreen'])\n",
    "    norm = Normalize(vmin=0, vmax=2)\n",
    "    plt.matshow(map, cmap=cmap, norm=norm)\n",
    "    plt.xticks(col_labels, col_labels)\n",
    "    plt.yticks(row_labels, row_labels)\n",
    "    plt.grid(color='k', linewidth=1)\n",
    "    init = np.where(map == 1)\n",
    "    plt.text(init[1][0], init[0][0], 'H', ha='center', va='center', color='white', weight='bold', backgroundcolor='blueviolet', fontsize=20)\n",
    "    goal = np.where(map == 2)\n",
    "    plt.text(goal[1][0], goal[0][0], 'S', ha='center', va='center', color='white', weight='bold', backgroundcolor='yellowgreen', fontsize=20)\n",
    "\n",
    "    arrows = ['\\u2191', '\\u2193', '\\u2190', '\\u2192', '\\u2197', '\\u2196', '\\u2199', '\\u2198']\n",
    "    for i, row in enumerate(map):\n",
    "        for j, cell in enumerate(row):\n",
    "            if cell == 0:\n",
    "                plt.text(j, i, arrows[0], ha='center', va='center', color='black', weight='bold', backgroundcolor='lightblue', fontsize=20)\n",
    "            elif cell == 1:\n",
    "                plt.text(j, i, arrows[1], ha='center', va='center', color='black', weight='bold', backgroundcolor='lightblue', fontsize=20)\n",
    "            elif cell == 2:\n",
    "                plt.text(j, i, arrows[2], ha='center', va='center', color='black', backgroundcolor='lightblue', fontsize=20)\n",
    "            elif cell == 3:\n",
    "                plt.text(j, i, arrows[3], ha='center', va='center', color='black', backgroundcolor='lightblue', fontsize=20)\n",
    "            elif cell == 4:\n",
    "                plt.text(j, i, arrows[4], ha='center', va='center', color='black', backgroundcolor='lightblue', fontsize=20)\n",
    "            elif cell == 5:\n",
    "                plt.text(j, i, arrows[5], ha='center', va='center', color='black', backgroundcolor='lightblue', fontsize=20)\n",
    "            elif cell == 6:\n",
    "                plt.text(j, i, arrows[6], ha='center', va='center', color='black', backgroundcolor='lightblue', fontsize=20)\n",
    "            elif cell == 7:\n",
    "                plt.text(j, i, arrows[7], ha='center', va='center', color='black', backgroundcolor='lightblue', fontsize=20)\n",
    "    plt.show()"
   ]
  },
  {
   "cell_type": "code",
   "execution_count": 93,
   "metadata": {},
   "outputs": [],
   "source": [
    "def plot_rewards_episodes(rewards_avg, num_episodes):\n",
    "    x = [i for i in range(0, num_episodes)]\n",
    "    y = np.mean(rewards_avg, axis=0)\n",
    "    plt.xlabel('Episodes')\n",
    "    plt.ylabel('Reward')\n",
    "    plt.plot(x, y,'o')"
   ]
  },
  {
   "cell_type": "code",
   "execution_count": 94,
   "metadata": {},
   "outputs": [],
   "source": [
    "def train_q_table(env, rewards_avg, iteration=100, learning_rate=0.95, discount_rate=0.95, num_episodes=6000, max_steps_per_episode=100):\n",
    "    for it in range(iteration):\n",
    "        clear_output(wait=True)\n",
    "        print('average ', it)\n",
    "        rewards_all_episodes=[]\n",
    "\n",
    "        # exporation-exploitation trade-off params\n",
    "        exploration_rate = 1\n",
    "        max_exploration_rate = 1\n",
    "        min_exploration_rate = 0.01\n",
    "        exploration_decay_rate = 0.005\n",
    "\n",
    "        # init q table in zeros\n",
    "        q_table = np.zeros((state_space_size, action_space_size))\n",
    "\n",
    "        # iterate over the episodes\n",
    "        for episode in range(num_episodes):\n",
    "            state = env.reset()\n",
    "            done = False\n",
    "            rewards_current_episode = 0\n",
    "\n",
    "            # iterate over the steps for an episode\n",
    "            for step in range(max_steps_per_episode):\n",
    "                # Exploration-exploitation trade-off\n",
    "                exploration_rate_threshold = np.random.rand()\n",
    "                if exploration_rate_threshold <= exploration_rate:\n",
    "                    action = np.random.randint(0, action_space_size) # Exploration time\n",
    "                else:\n",
    "                    action = np.argmax(q_table[state]) # Explotation time\n",
    "\n",
    "                # Take action\n",
    "                new_state, reward, done = env.step(action)\n",
    "\n",
    "                # Update Q-table for Q(s,a)\n",
    "                q_table[state, action] = (1-learning_rate) * q_table[state, action] + learning_rate * (reward + discount_rate * np.max(q_table[new_state]))\n",
    "                \n",
    "                # transition next state\n",
    "                state = new_state\n",
    "                rewards_current_episode += reward\n",
    "\n",
    "                if done == True: \n",
    "                    break\n",
    "\n",
    "\n",
    "            # Exploration rate decay\n",
    "            exploration_rate = min_exploration_rate + (max_exploration_rate - min_exploration_rate) * (np.exp(-exploration_decay_rate * episode)) #your code here\n",
    "            #env.render()\n",
    "            rewards_all_episodes.append(rewards_current_episode)\n",
    "\n",
    "        rewards_avg.append(rewards_all_episodes)\n",
    "    return q_table"
   ]
  },
  {
   "attachments": {},
   "cell_type": "markdown",
   "metadata": {},
   "source": [
    "# Run 1"
   ]
  },
  {
   "cell_type": "code",
   "execution_count": 95,
   "metadata": {},
   "outputs": [
    {
     "name": "stdout",
     "output_type": "stream",
     "text": [
      "average  99\n",
      "Harry init action: down_left\n",
      "Harry end action: up\n"
     ]
    },
    {
     "data": {
      "image/png": "[encoded data removed]",
      "text/plain": [
       "<Figure size 432x288 with 1 Axes>"
      ]
     },
     "metadata": {
      "needs_background": "light"
     },
     "output_type": "display_data"
    },
    {
     "data": {
      "image/png": "[encoded data removed]",
      "text/plain": [
       "<Figure size 370.286x288 with 1 Axes>"
      ]
     },
     "metadata": {
      "needs_background": "light"
     },
     "output_type": "display_data"
    }
   ],
   "source": [
    "# Applying Q-learning\n",
    "walk_reward_1 = -1\n",
    "fall_reward_1 = -10\n",
    "goal_reward_1 = 150\n",
    "\n",
    "env.reset()\n",
    "env.set_rewards(walk_reward_1 , fall_reward_1, goal_reward_1)\n",
    "\n",
    "# Initialize parameters\n",
    "rewards_avg_1 = []\n",
    "iteration_1 = 100 # value function\n",
    "learning_rate_1 = 0.1\n",
    "discount_rate_1 = 0.95\n",
    "num_episodes_1 = 6000 #15000\n",
    "max_steps_per_episode_1 = 100 #100\n",
    "\n",
    "#train Q-table\n",
    "q_table_1 = train_q_table(env, rewards_avg_1, iteration_1, learning_rate_1, discount_rate_1, num_episodes_1, max_steps_per_episode_1)\n",
    "plot_rewards_episodes(rewards_avg_1, num_episodes_1)\n",
    "\n",
    "# Optimal policy\n",
    "arrow_matrix = policies_matrix(q_table_1, azkaban_map)\n",
    "print('Harry init action:', actions[arrow_matrix[1][1]])\n",
    "print('Harry end action:', actions[arrow_matrix[4][7]])\n",
    "arrow_matrix[1][1] = -2\n",
    "arrow_matrix[4][7] = -3\n",
    "show_optimal_policy(arrow_matrix)"
   ]
  },
  {
   "cell_type": "code",
   "execution_count": 96,
   "metadata": {},
   "outputs": [
    {
     "data": {
      "image/png": "[encoded data removed]",
      "text/plain": [
       "<Figure size 370.286x288 with 1 Axes>"
      ]
     },
     "metadata": {
      "needs_background": "light"
     },
     "output_type": "display_data"
    }
   ],
   "source": [
    "env.render()"
   ]
  },
  {
   "cell_type": "code",
   "execution_count": null,
   "metadata": {},
   "outputs": [],
   "source": []
  }
 ],
 "metadata": {
  "kernelspec": {
   "display_name": "mytest",
   "language": "python",
   "name": "python3"
  },
  "language_info": {
   "codemirror_mode": {
    "name": "ipython",
    "version": 3
   },
   "file_extension": ".py",
   "mimetype": "text/x-python",
   "name": "python",
   "nbconvert_exporter": "python",
   "pygments_lexer": "ipython3",
   "version": "3.6.13"
  },
  "orig_nbformat": 4
 },
 "nbformat": 4,
 "nbformat_minor": 2
}
