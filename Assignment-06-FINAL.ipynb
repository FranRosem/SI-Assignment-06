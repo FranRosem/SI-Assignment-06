{
  "cells": [
    {
      "attachments": {},
      "cell_type": "markdown",
      "metadata": {
        "id": "dkBuncKvAkW-"
      },
      "source": [
        "## Assignment 06\n",
        "\n",
        "**Students:**\n",
        "- Franklin Ruben Rosembluth Prado\n",
        "- Sharon Sarai Maygua Mendiola"
      ]
    },
    {
      "attachments": {},
      "cell_type": "markdown",
      "metadata": {
        "id": "esEIJSV_AkXF"
      },
      "source": [
        "## Introduction"
      ]
    },
    {
      "attachments": {},
      "cell_type": "markdown",
      "metadata": {},
      "source": [
        "**Reinforcement learning** is an area of Artificial Intelligence that helps an agent perform determined actions in order to reach a particular goal.\n",
        "\n",
        "This method can have different applications such as self-driving cars or playing games:\n",
        "\n",
        "\n",
        "- Reinforcement learning consists in having an agent that can be in different states, and perform certain actions in each given state.\n",
        "\n",
        "- Making an action in a given state results in a new state for the agent. The agent must have a goal state that can be reached by performing a list of defined actions, the idea is to teach the agent how to reach the goal state, the agent must learn to make decisions regarding which action to take in each state.\n",
        "\n",
        "- The most important thing in the algorithm is the way it saves the information of which actions can have a good or bad reward, and which actions will really lead the agent to the goal state.\n",
        "\n",
        "- The algorithm known as Bellman algorithm has a Q-table in order to store information of each state, and for each state the expected reward of each action the agent can take in.\n",
        "\n",
        "- An agent must be rewarded or penalized in order to make him learn better actions.\n",
        "\n",
        "- This expected reward is a metric that tells the agent how good or bad it is to take each of the possible actions that can do, As the agent learns, these rewards change, until the agent reaches the point where the reward is maximized and it cannot improve more, when this happens the agent has reached an **optimal policy**.\n",
        "\n",
        "- **The optimal policy** can be defined as the best possible actions that the agent can make in each state in order to maximize the reward.\n",
        "\n",
        "- The main objective of Reinforcement Learning is finding the optimal policy in the problem.\n",
        "\n",
        "For this practice, we will apply RL using Q-learning, The environment consists on Harry Potter (agent) going through the **\"Prison of Azkavan\"** in order to save Sirius Black (goal), the representation of the prison has 9 columns and 7 rows.\n",
        "\n",
        "Harry starts at position (1,1) and Sirius is prisioned on (7,4). In columns 3, 4, and 5 exists windy columns going from south to north that makes Harry in hurry and difficult situations to get to Sirius Black."
      ]
    },
    {
      "attachments": {},
      "cell_type": "markdown",
      "metadata": {
        "id": "1A5T0z-8AkXG"
      },
      "source": [
        "# Problem with Q-learning"
      ]
    },
    {
      "attachments": {},
      "cell_type": "markdown",
      "metadata": {
        "id": "NSnx3ItuAkXH"
      },
      "source": [
        "1. How do you plan to resolve this problem using Q-learning? - ¿Cómo planeas resolver el problema usando q-learning?\n",
        "\n",
        "- To implement Q-learning with the problem, we need to analyze what type of rewards the agent will receive according to the states it may have through the iteration.\n",
        "- Finding which would be the best values to obtain an optimal policy that allows the agent to make better decisions.\n",
        "- We started giving the agent this goals:\n",
        "- **-10** from Falling out of the board, **-1** for every step that the agent makes and **100** if the agent reaches the goal state.\n",
        "- We thought about the values that the agent could obtain when a is making a step. Firstly we use negative rewards (penalize) with the idea that if the agent falls of the map or makes bad steps, the agent would lose rewards after reaching the goal, that's why instead of concentrating on finding more unuseful path, the agent should go to the goal directly.\n",
        "\n",
        "- The code that we suggest to resolve this particular problem is here:"
      ]
    },
    {
      "cell_type": "code",
      "execution_count": null,
      "metadata": {
        "id": "-P3SQMYuAkXI"
      },
      "outputs": [],
      "source": [
        "import numpy as np\n",
        "import gym\n",
        "from gym import spaces\n",
        "import random\n",
        "from copy import copy\n",
        "from termcolor import colored, cprint\n",
        "import time\n",
        "import math\n",
        "from IPython.display import clear_output\n",
        "from matplotlib import pyplot as plt\n",
        "from matplotlib.colors import Normalize, ListedColormap\n",
        "from PIL import Image"
      ]
    },
    {
      "attachments": {},
      "cell_type": "markdown",
      "metadata": {
        "id": "Lm_JGMRCAq4e"
      },
      "source": [
        "# Create the environment\n",
        "\n",
        "The \"create_map\" function, creates a map that is represented as a two-dimensional array. The values used are: 0 for empty space, 1 for the start position and 2 for the target position. This function is useful because it generates a learning environment where a learning reinforcement agent must traverse from the start position to the target position"
      ]
    },
    {
      "cell_type": "code",
      "execution_count": null,
      "metadata": {
        "id": "lJgG3y0UAkXL"
      },
      "outputs": [],
      "source": [
        "# 0 = empty_space; 1 = init_pos; 2 = goal_pos\n",
        "def create_map(size, init_position, goal_pos):\n",
        "    map = np.zeros((size[1], size[0]), dtype=np.int)\n",
        "    map[init_position[1], init_position[0]] = 1\n",
        "    map[goal_pos[1], goal_pos[0]] = 2\n",
        "    return map"
      ]
    },
    {
      "cell_type": "code",
      "execution_count": null,
      "metadata": {
        "id": "peSIgh8gAkXM",
        "outputId": "9ab83fd1-88eb-44e0-a408-cca8a6c4c439"
      },
      "outputs": [
        {
          "name": "stdout",
          "output_type": "stream",
          "text": [
            "[[0 0 0 0 0 0 0 0 0]\n",
            " [0 1 0 0 0 0 0 0 0]\n",
            " [0 0 0 0 0 0 0 0 0]\n",
            " [0 0 0 0 0 0 0 0 0]\n",
            " [0 0 0 0 0 0 0 2 0]\n",
            " [0 0 0 0 0 0 0 0 0]\n",
            " [0 0 0 0 0 0 0 0 0]]\n"
          ]
        }
      ],
      "source": [
        "map_size = (9, 7)\n",
        "init_pos = (1, 1)\n",
        "goal_pos = (7, 4)\n",
        "map = create_map(map_size, init_pos, goal_pos)\n",
        "print(map)"
      ]
    },
    {
      "attachments": {},
      "cell_type": "markdown",
      "metadata": {
        "id": "UhkEb2IwAy22"
      },
      "source": [
        "Initialization of the action space, the state space, and creation of the Q table"
      ]
    },
    {
      "cell_type": "code",
      "execution_count": null,
      "metadata": {
        "id": "X8KiHkEhAkXN",
        "outputId": "9b92e970-46b1-4539-b338-52ac50b90909"
      },
      "outputs": [
        {
          "name": "stdout",
          "output_type": "stream",
          "text": [
            "8 63\n",
            "(63, 8)\n"
          ]
        }
      ],
      "source": [
        "action_space_size = 8 # UP, RIGHT, DOWN, LEFT UP_RIGHT, ..., DOWN_LEFT\n",
        "state_space_size = map_size[0] * map_size[1] # AREA\n",
        "print(action_space_size, state_space_size)\n",
        "\n",
        "q_table = np.zeros((state_space_size, action_space_size))\n",
        "\n",
        "print(q_table.shape)"
      ]
    },
    {
      "cell_type": "code",
      "execution_count": null,
      "metadata": {
        "id": "LngeuU3MAkXO",
        "outputId": "65b5cfa3-8f4e-45fb-eb1f-2dcd6c9f4396"
      },
      "outputs": [
        {
          "name": "stdout",
          "output_type": "stream",
          "text": [
            "down\n"
          ]
        }
      ],
      "source": [
        "# actions_dict = {0: 'up', 1: 'down', 2: 'left', 3: 'right', 4: 'up_right', 5: 'up_left', 6: 'down_right', 7: 'down_left'}\n",
        "actions = ['up', 'down', 'left', 'right', 'up_right', 'up_left', 'down_right', 'down_left']\n",
        "print(actions[1])"
      ]
    },
    {
      "cell_type": "code",
      "execution_count": null,
      "metadata": {
        "id": "G5Jv2VcdAkXP",
        "outputId": "06f1e5cb-2c4e-4ca4-9f11-c1122054ad76"
      },
      "outputs": [
        {
          "data": {
            "image/png": "[encoded data removed]",
            "text/plain": [
              "<Figure size 432x288 with 1 Axes>"
            ]
          },
          "metadata": {
            "needs_background": "light"
          },
          "output_type": "display_data"
        }
      ],
      "source": [
        "def show_map_3(map):\n",
        "    row_labels, col_labels = range(map.shape[0]+1), range(map.shape[1]+1)\n",
        "    cmap = ListedColormap(['white', 'yellowgreen', 'blueviolet'])\n",
        "    norm = Normalize(vmin=0, vmax=2)\n",
        "    plt.imshow(map, cmap=cmap, norm=norm)\n",
        "    plt.xticks(np.arange(len(col_labels)-1) + 0.5, col_labels[1:])\n",
        "    plt.yticks(np.arange(len(row_labels)-1) + 0.5, row_labels[1:])\n",
        "    plt.grid(color='k', linewidth=1)\n",
        "    init = np.where(map == 1)\n",
        "    plt.text(init[1][0], init[0][0], 'H', ha='center', va='center', color='black', weight='bold', fontsize=15)\n",
        "    goal = np.where(map == 2)\n",
        "    plt.text(goal[1][0], goal[0][0], 'S', ha='center', va='center', color='black', weight='bold', fontsize=15)\n",
        "    plt.show()\n",
        "\n",
        "show_map_3(map)"
      ]
    },
    {
      "cell_type": "code",
      "execution_count": null,
      "metadata": {
        "id": "neGJvPmDAkXP",
        "outputId": "07bdff15-7367-47fd-eb6c-7a7a20a6cee0"
      },
      "outputs": [
        {
          "data": {
            "image/png": "[encoded data removed]",
            "text/plain": [
              "<Figure size 370.286x288 with 1 Axes>"
            ]
          },
          "metadata": {
            "needs_background": "light"
          },
          "output_type": "display_data"
        }
      ],
      "source": [
        "# actions_dict = {0: 'up', 1: 'down', 2: 'left', 3: 'right', 4: 'up_right', 5: 'up_left', 6: 'down_right', 7: 'down_left'}\n",
        "arrows = ['\\u2191', '\\u2193', '\\u2190', '\\u2192', '\\u2197', '\\u2196', '\\u2198', '\\u2199']\n",
        "\n",
        "def show_map(map):\n",
        "    row_labels, col_labels = range(map.shape[0]), range(map.shape[1])\n",
        "    cmap = ListedColormap(['white', 'blueviolet', 'yellowgreen'])\n",
        "    norm = Normalize(vmin=0, vmax=2)\n",
        "    plt.matshow(map, cmap=cmap, norm=norm)\n",
        "    plt.xticks(col_labels, col_labels)\n",
        "    plt.yticks(row_labels, row_labels)\n",
        "    plt.grid(color='k', linewidth=1)\n",
        "    init = np.where(map == 1)\n",
        "    plt.text(init[1][0], init[0][0], 'H', ha='center', va='center', color='white', weight='bold', backgroundcolor='blueviolet', fontsize=20)\n",
        "    goal = np.where(map == 2)\n",
        "    plt.text(goal[1][0], goal[0][0], 'S', ha='center', va='center', color='white', weight='bold', backgroundcolor='yellowgreen', fontsize=20)\n",
        "    plt.show()\n",
        "\n",
        "show_map(map)"
      ]
    },
    {
      "attachments": {},
      "cell_type": "markdown",
      "metadata": {
        "id": "aCsyronsAkXQ"
      },
      "source": [
        "Created with help of: https://www.gymlibrary.dev/content/environment_creation/"
      ]
    },
    {
      "cell_type": "code",
      "execution_count": null,
      "metadata": {
        "id": "S5grIeomAkXR"
      },
      "outputs": [],
      "source": [
        "class AzkabanEnviroment:\n",
        "    def __init__(self, map, init_pos, goal_pos, prob_A=0.9, prob_B=0.8, prob_C=0.9):\n",
        "        self.map = map\n",
        "        self.size = (self.map.shape[1], self.map.shape[0])\n",
        "        self.harry_pos = init_pos\n",
        "        self.sirius_pos = goal_pos\n",
        "        self.reset_map = map\n",
        "        self.reset_harry_pos = init_pos\n",
        "        self.action_space = spaces.Discrete(8)\n",
        "        self.observation_space = spaces.Discrete(self.map.shape[0] * self.map.shape[1])\n",
        "        self.prob_A = prob_A\n",
        "        self.prob_B = prob_B\n",
        "        self.prob_C = prob_C\n",
        "        self._action_to_direction = {\n",
        "            0: 'up', \n",
        "            1: 'down', \n",
        "            2: 'left', \n",
        "            3: 'right', \n",
        "            4: 'up_right', \n",
        "            5: 'up_left', \n",
        "            6: 'down_right', \n",
        "            7: 'down_left'\n",
        "        }\n",
        "        self._rewards = {\n",
        "            \"walk\": -1,\n",
        "            \"fall\": -10,\n",
        "            \"goal\": 100\n",
        "        }\n",
        "    \n",
        "    def get_actions(self, action):\n",
        "        return self._action_to_direction[action]\n",
        "    \n",
        "    def get_rewards(self):\n",
        "        return self._rewards\n",
        "    \n",
        "    def set_rewards(self, walk , fall, goal):\n",
        "        self._rewards = {\n",
        "            \"walk\": walk,\n",
        "            \"fall\": fall,\n",
        "            \"goal\": goal\n",
        "        }\n",
        "\n",
        "    def __str__(self):\n",
        "        return f\"Harry Position: ({self.harry_pos[0]}, {self.harry_pos[1]})\\n\" + str(self.map)\n",
        "\n",
        "    def render(self):\n",
        "        row_labels, col_labels = range(self.map.shape[0]), range(self.map.shape[1])\n",
        "        cmap = ListedColormap(['white', 'blueviolet', 'yellowgreen'])\n",
        "        norm = Normalize(vmin=0, vmax=2)\n",
        "        plt.matshow(self.map, cmap=cmap, norm=norm)\n",
        "        plt.xticks(col_labels, col_labels)\n",
        "        plt.yticks(row_labels, row_labels)\n",
        "        plt.grid(color='k', linewidth=1)\n",
        "        init = np.where(self.map == 1)\n",
        "        plt.text(init[1][0], init[0][0], 'H', ha='center', va='center', color='white', weight='bold', fontsize=15)\n",
        "        goal = np.where(self.map == 2)\n",
        "        plt.text(goal[1][0], goal[0][0], 'S', ha='center', va='center', color='white', weight='bold', fontsize=15)\n",
        "        plt.show()\n",
        "    \n",
        "    def reset(self):\n",
        "        self.map = self.reset_map\n",
        "        self.harry_pos = self.reset_harry_pos\n",
        "        return self.harry_pos[1] * self.size[1] + self.harry_pos[0] #10 * self.harry_pos[1] + self.harry_pos[1] #given state\n",
        "\n",
        "    def is_goal_state(self):\n",
        "        return self.harry_pos == self.sirius_pos\n",
        "    \n",
        "    def has_fallen_of_map(self):\n",
        "        x_range = np.array(range(self.size[0]))\n",
        "        y_range = np.array(range(self.size[1]))\n",
        "        return (self.harry_pos[0] not in x_range) or (self.harry_pos[1] not in y_range)\n",
        "    \n",
        "    def move_harry_right(self):\n",
        "        self.harry_pos = list(self.harry_pos)\n",
        "        self.harry_pos[0] += 1\n",
        "        self.harry_pos = list(self.harry_pos)\n",
        "        return self.get_move_result()\n",
        "\n",
        "    def move_harry_left(self):\n",
        "        self.harry_pos = list(self.harry_pos)\n",
        "        self.harry_pos[0] -= 1\n",
        "        self.harry_pos = list(self.harry_pos)\n",
        "        return self.get_move_result()\n",
        "    \n",
        "    def move_harry_up(self):\n",
        "        self.harry_pos = list(self.harry_pos)\n",
        "        self.harry_pos[1] -= 1\n",
        "        self.harry_pos = list(self.harry_pos)\n",
        "        return self.get_move_result()\n",
        "\n",
        "    def move_harry_down(self):\n",
        "        self.harry_pos = list(self.harry_pos)\n",
        "        self.harry_pos[1] += 1\n",
        "        self.harry_pos = tuple(self.harry_pos)\n",
        "        return self.get_move_result()\n",
        "    \n",
        "    def move_harry_up_right(self):\n",
        "        self.move_harry_up()\n",
        "        self.move_harry_right()\n",
        "        return self.get_move_result()\n",
        "\n",
        "    def move_harry_up_left(self):\n",
        "        self.move_harry_up()\n",
        "        self.move_harry_left()\n",
        "        return self.get_move_result()\n",
        "\n",
        "    def move_harry_down_right(self):\n",
        "        self.move_harry_down()\n",
        "        self.move_harry_right()\n",
        "        return self.get_move_result()\n",
        "\n",
        "    def move_harry_down_left(self):\n",
        "        self.move_harry_down()\n",
        "        self.move_harry_left()\n",
        "        return self.get_move_result()\n",
        "    # [7, 9] = (63)\n",
        "    \n",
        "    def get_move_result(self):\n",
        "        new_state = self.harry_pos[1] * self.size[1] + self.harry_pos[0]\n",
        "        if self.is_goal_state():\n",
        "            return new_state, self._rewards[\"goal\"], True\n",
        "        if self.has_fallen_of_map():\n",
        "            return new_state, self._rewards[\"fall\"], True\n",
        "        \n",
        "        self.map = create_map(self.size, self.harry_pos, self.sirius_pos)\n",
        "        return new_state, self._rewards[\"walk\"], False\n",
        "        \n",
        "    def step(self, action):\n",
        "        direction = self._action_to_direction[action]\n",
        "        if direction == \"left\":\n",
        "            new_state, reward, done = self.move_harry_left()\n",
        "        elif direction == \"right\":\n",
        "            new_state, reward, done = self.move_harry_right()\n",
        "        elif direction == \"up\":\n",
        "            new_state, reward, done = self.move_harry_up()\n",
        "        elif direction == \"down\":\n",
        "            new_state, reward, done = self.move_harry_down()\n",
        "        elif direction == \"up_right\":\n",
        "            new_state, reward, done = self.move_harry_up_right()\n",
        "        elif direction == \"up_left\":\n",
        "            new_state, reward, done = self.move_harry_up_left()\n",
        "        elif direction == \"down_right\":\n",
        "            new_state, reward, done = self.move_harry_down_right()\n",
        "        elif direction == \"down_left\":\n",
        "            new_state, reward, done = self.move_harry_down_left()\n",
        "            \n",
        "        # probability windy columns\n",
        "        if self.harry_pos[0] == 3:\n",
        "            random_number = np.random.rand()\n",
        "            if random_number <= self.prob_A:\n",
        "                new_state, reward, done = self.move_harry_up()\n",
        "            else:\n",
        "                new_state, reward, done = self.get_move_result()\n",
        "\n",
        "        if self.harry_pos[0] == 4:\n",
        "            random_number = np.random.rand()\n",
        "            if random_number <= self.prob_B:\n",
        "                new_state, reward, done = self.move_harry_up()\n",
        "                new_state, reward, done = self.move_harry_up()\n",
        "            else:\n",
        "                new_state, reward, done = self.get_move_result()\n",
        "\n",
        "        if self.harry_pos[0] == 5:\n",
        "            random_number = np.random.rand()\n",
        "            if random_number <= self.prob_C:\n",
        "                new_state, reward, done = self.move_harry_up()\n",
        "            else:\n",
        "                new_state, reward, done = self.get_move_result()\n",
        "\n",
        "        return new_state, reward, done\n",
        "    \n",
        "    def close(self):\n",
        "        clear_output(wait=True)"
      ]
    },
    {
      "attachments": {},
      "cell_type": "markdown",
      "metadata": {
        "id": "SwHri01bAkXS"
      },
      "source": [
        "Create Azkaban environment as follows:"
      ]
    },
    {
      "cell_type": "code",
      "execution_count": null,
      "metadata": {
        "id": "FNZBdMK7AkXT"
      },
      "outputs": [],
      "source": [
        "map_size = (9, 7)\n",
        "init_pos = (1, 1)\n",
        "goal_pos = (7, 4)\n",
        "azkaban_map = create_map(map_size, init_pos, goal_pos)\n",
        "env = AzkabanEnviroment(azkaban_map, init_pos, goal_pos)"
      ]
    },
    {
      "attachments": {},
      "cell_type": "markdown",
      "metadata": {
        "id": "4O7Xs-U7AkXT"
      },
      "source": [
        "Render the environment, visualization of the current state of the environment"
      ]
    },
    {
      "cell_type": "code",
      "execution_count": null,
      "metadata": {
        "id": "-4-HLJzyAkXU",
        "outputId": "ce50b1b0-2d8c-47fe-be02-63039a6585b7"
      },
      "outputs": [
        {
          "data": {
            "image/png": "[encoded data removed]",
            "text/plain": [
              "<Figure size 370.286x288 with 1 Axes>"
            ]
          },
          "metadata": {
            "needs_background": "light"
          },
          "output_type": "display_data"
        }
      ],
      "source": [
        "env.render()"
      ]
    },
    {
      "attachments": {},
      "cell_type": "markdown",
      "metadata": {
        "id": "7kfPt7sKAkXU"
      },
      "source": [
        "Get states and actions for the lake\n",
        "\n",
        "\n",
        "\n"
      ]
    },
    {
      "cell_type": "code",
      "execution_count": null,
      "metadata": {
        "id": "_Gw4JzKLAkXV",
        "outputId": "e41caac7-7158-4c52-b341-153b58497e09"
      },
      "outputs": [
        {
          "name": "stdout",
          "output_type": "stream",
          "text": [
            "(8, 63)\n"
          ]
        }
      ],
      "source": [
        "action_space_size = env.action_space.n\n",
        "state_space_size = env.observation_space.n\n",
        "\n",
        "print((action_space_size, state_space_size))"
      ]
    },
    {
      "attachments": {},
      "cell_type": "markdown",
      "metadata": {
        "id": "vz5vxQeuAkXV"
      },
      "source": [
        "Move the agent: "
      ]
    },
    {
      "cell_type": "code",
      "execution_count": null,
      "metadata": {
        "id": "2O94f5jdAkXV",
        "outputId": "fc5bb005-7edb-4b91-82e9-071571faf35a"
      },
      "outputs": [
        {
          "name": "stdout",
          "output_type": "stream",
          "text": [
            "down\n"
          ]
        },
        {
          "data": {
            "image/png": "[encoded data removed]",
            "text/plain": [
              "<Figure size 370.286x288 with 1 Axes>"
            ]
          },
          "metadata": {
            "needs_background": "light"
          },
          "output_type": "display_data"
        }
      ],
      "source": [
        "action = env.action_space.sample()\n",
        "state = env.reset() #*10\n",
        "new_state, reward, done = env.step(action)\n",
        "print(env.get_actions(action))\n",
        "env.render()"
      ]
    },
    {
      "attachments": {},
      "cell_type": "markdown",
      "metadata": {
        "id": "CagdIx5qAkXW"
      },
      "source": [
        "Initialize some parameters"
      ]
    },
    {
      "cell_type": "code",
      "execution_count": null,
      "metadata": {
        "id": "7BQQAef5AkXW",
        "outputId": "8074f1b0-bab7-4304-a456-f5692af54fe9"
      },
      "outputs": [
        {
          "name": "stdout",
          "output_type": "stream",
          "text": [
            "(63, 8)\n"
          ]
        }
      ],
      "source": [
        "num_episodes = 6000 #15000\n",
        "max_steps_per_episode = 100 #100\n",
        "\n",
        "learning_rate = 0.1\n",
        "discount_rate = 0.95\n",
        "\n",
        "rewards_avg = []\n",
        "\n",
        "#state_space_size = 120\n",
        "q_table = np.zeros((state_space_size, action_space_size))\n",
        "\n",
        "print(q_table.shape)"
      ]
    },
    {
      "attachments": {},
      "cell_type": "markdown",
      "metadata": {
        "id": "Gg6MMM71AkXW"
      },
      "source": [
        "# Q-Learning algorithm\n",
        "Our code defines a function called train_q_table that is responsible for training a Q table using the Q-learning reinforcement learning algorithm in a specific 'env' environment.\n",
        "\n",
        "The training process is done in several episodes. In each episode, the agent interacts with the environment by taking actions and updating the Q table based on the rewards received. A trade-off strategy between exploration and exploitation is used to balance the exploration of new stocks and the exploitation of the stocks that appear to be the most optimal so far.\n",
        "\n",
        "The Q table is initialized with zeros and is updated at each episode step using the equation of the Q-learning algorithm. In addition, a learning rate (learning_rate) and a discount factor (discount_rate) are used to adjust the influence of future rewards on updating the Q table values.\n",
        "\n",
        "After each episode, the reward earned is recorded and the exploration parameter (exploration_rate) is updated to gradually decrease exploration as more knowledge is accumulated.\n",
        "\n",
        "Finally, the updated Q table is returned at the end of the training process."
      ]
    },
    {
      "attachments": {},
      "cell_type": "markdown",
      "metadata": {},
      "source": [
        "This algorithm is based on the Frozen-lake lab algorithm.\n",
        "\n",
        "It performs 6000 episodes, 100 times in order to view the average of the 100 times and verify if the agent is really learning to maximize its reward."
      ]
    },
    {
      "cell_type": "code",
      "execution_count": null,
      "metadata": {
        "id": "CJCuPzEBAkXX"
      },
      "outputs": [],
      "source": [
        "def train_q_table(env, rewards_avg, iteration=100, learning_rate=0.95, discount_rate=0.95, num_episodes=6000, max_steps_per_episode=100):\n",
        "    for it in range(iteration):\n",
        "        print('average ', it)\n",
        "        rewards_all_episodes=[]\n",
        "\n",
        "        # exporation-exploitation trade-off params\n",
        "        exploration_rate = 1\n",
        "        max_exploration_rate = 1\n",
        "        min_exploration_rate = 0.01\n",
        "        exploration_decay_rate = 0.005\n",
        "\n",
        "        # init q table in zeros\n",
        "        q_table = np.zeros((state_space_size, action_space_size))\n",
        "\n",
        "        # iterate over the episodes\n",
        "        for episode in range(num_episodes):\n",
        "            state = env.reset()\n",
        "            done = False\n",
        "            rewards_current_episode = 0\n",
        "\n",
        "            # iterate over the steps for an episode\n",
        "            for step in range(max_steps_per_episode):\n",
        "                # Exploration-exploitation trade-off\n",
        "                exploration_rate_threshold = np.random.rand()\n",
        "                if exploration_rate_threshold <= exploration_rate:\n",
        "                    action = np.random.randint(0, action_space_size) # Exploration time\n",
        "                else:\n",
        "                    action = np.argmax(q_table[state]) # Explotation time\n",
        "\n",
        "                # Take action\n",
        "                new_state, reward, done = env.step(action)\n",
        "\n",
        "                # Update Q-table for Q(s,a)\n",
        "                q_table[state, action] = (1-learning_rate) * q_table[state, action] + learning_rate * (reward + discount_rate * np.max(q_table[new_state]))\n",
        "                \n",
        "                # transition next state\n",
        "                state = new_state\n",
        "                rewards_current_episode += reward\n",
        "\n",
        "                if done == True: \n",
        "                    break\n",
        "\n",
        "\n",
        "            # Exploration rate decay\n",
        "            exploration_rate = min_exploration_rate + (max_exploration_rate - min_exploration_rate) * (np.exp(-exploration_decay_rate * episode)) #your code here\n",
        "            #env.render()\n",
        "            rewards_all_episodes.append(rewards_current_episode)\n",
        "\n",
        "        rewards_avg.append(rewards_all_episodes)\n",
        "    return q_table"
      ]
    },
    {
      "cell_type": "code",
      "execution_count": null,
      "metadata": {
        "id": "iHtojLumAkXX",
        "outputId": "79b84557-9ae5-42fc-9776-a025e9eaa62f"
      },
      "outputs": [
        {
          "name": "stdout",
          "output_type": "stream",
          "text": [
            "average  0\n",
            "average  1\n",
            "average  2\n",
            "average  3\n",
            "average  4\n",
            "average  5\n",
            "average  6\n",
            "average  7\n",
            "average  8\n",
            "average  9\n",
            "average  10\n",
            "average  11\n",
            "average  12\n",
            "average  13\n",
            "average  14\n",
            "average  15\n",
            "average  16\n",
            "average  17\n",
            "average  18\n",
            "average  19\n",
            "average  20\n",
            "average  21\n",
            "average  22\n",
            "average  23\n",
            "average  24\n",
            "average  25\n",
            "average  26\n",
            "average  27\n",
            "average  28\n",
            "average  29\n",
            "average  30\n",
            "average  31\n",
            "average  32\n",
            "average  33\n",
            "average  34\n",
            "average  35\n",
            "average  36\n",
            "average  37\n",
            "average  38\n",
            "average  39\n",
            "average  40\n",
            "average  41\n",
            "average  42\n",
            "average  43\n",
            "average  44\n",
            "average  45\n",
            "average  46\n",
            "average  47\n",
            "average  48\n",
            "average  49\n",
            "average  50\n",
            "average  51\n",
            "average  52\n",
            "average  53\n",
            "average  54\n",
            "average  55\n",
            "average  56\n",
            "average  57\n",
            "average  58\n",
            "average  59\n",
            "average  60\n",
            "average  61\n",
            "average  62\n",
            "average  63\n",
            "average  64\n",
            "average  65\n",
            "average  66\n",
            "average  67\n",
            "average  68\n",
            "average  69\n",
            "average  70\n",
            "average  71\n",
            "average  72\n",
            "average  73\n",
            "average  74\n",
            "average  75\n",
            "average  76\n",
            "average  77\n",
            "average  78\n",
            "average  79\n",
            "average  80\n",
            "average  81\n",
            "average  82\n",
            "average  83\n",
            "average  84\n",
            "average  85\n",
            "average  86\n",
            "average  87\n",
            "average  88\n",
            "average  89\n",
            "average  90\n",
            "average  91\n",
            "average  92\n",
            "average  93\n",
            "average  94\n",
            "average  95\n",
            "average  96\n",
            "average  97\n",
            "average  98\n",
            "average  99\n"
          ]
        }
      ],
      "source": [
        "# Applying Q-learning\n",
        "walk_reward = -1\n",
        "fall_reward = -10\n",
        "goal_reward = 150\n",
        "\n",
        "env.reset()\n",
        "env.set_rewards(walk_reward , fall_reward, goal_reward)\n",
        "\n",
        "rewards_avg_test = []\n",
        "iteration = 100\n",
        "learning_rate = 0.1\n",
        "discount_rate = 0.95\n",
        "num_episodes = 6000 #15000\n",
        "max_steps_per_episode = 100 #100\n",
        "q_table_1 = train_q_table(env, rewards_avg_test, iteration, learning_rate, discount_rate, num_episodes, max_steps_per_episode)"
      ]
    },
    {
      "attachments": {},
      "cell_type": "markdown",
      "metadata": {},
      "source": [
        "2. Find the optimal policy (graph every action that the agent can take) and graph the averag Reward Over Time"
      ]
    },
    {
      "attachments": {},
      "cell_type": "markdown",
      "metadata": {
        "id": "Y4h3Tw-CBnJz"
      },
      "source": [
        "# Visualization\n",
        "Here we can see how the performance of agent H improves as more training episodes are performed"
      ]
    },
    {
      "cell_type": "code",
      "execution_count": null,
      "metadata": {
        "id": "fo8FbOjpAkXX"
      },
      "outputs": [],
      "source": [
        "def plot_rewards_episodes(rewards_avg, num_episodes):\n",
        "    x = [i for i in range(0, num_episodes)]\n",
        "    y = np.mean(rewards_avg, axis=0)\n",
        "    plt.xlabel('Episodes')\n",
        "    plt.ylabel('Reward')\n",
        "    plt.plot(x, y,'o')"
      ]
    },
    {
      "cell_type": "code",
      "execution_count": null,
      "metadata": {
        "id": "t4_aB6mRAkXY",
        "outputId": "efa7dacd-e168-4662-df02-af8ad44ce521"
      },
      "outputs": [
        {
          "data": {
            "image/png": "[encoded data removed]",
            "text/plain": [
              "<Figure size 432x288 with 1 Axes>"
            ]
          },
          "metadata": {
            "needs_background": "light"
          },
          "output_type": "display_data"
        }
      ],
      "source": [
        "plot_rewards_episodes(rewards_avg_test, num_episodes)"
      ]
    },
    {
      "cell_type": "code",
      "execution_count": null,
      "metadata": {
        "id": "jIgJYpTwAkXY",
        "outputId": "22af63ce-4e23-4ea5-b646-dabfb5135e02"
      },
      "outputs": [
        {
          "data": {
            "image/png": "[encoded data removed]",
            "text/plain": [
              "<Figure size 370.286x288 with 1 Axes>"
            ]
          },
          "metadata": {
            "needs_background": "light"
          },
          "output_type": "display_data"
        }
      ],
      "source": [
        "env.render()"
      ]
    },
    {
      "cell_type": "code",
      "execution_count": null,
      "metadata": {
        "id": "lrb3XmjxAkXY",
        "outputId": "b7cf291c-0839-4326-bb53-f0b0eebee421"
      },
      "outputs": [
        {
          "name": "stdout",
          "output_type": "stream",
          "text": [
            "\n",
            "\n",
            "********Q-table********\n",
            "\n",
            "[[-3.43900000e+00 -2.83238461e+00 -4.09510000e+00  2.51427762e+01\n",
            "  -4.68559000e+00 -4.09510000e+00 -2.92256750e+00 -4.19010000e+00]\n",
            " [-6.86189404e+00  6.95507370e+01 -2.88259017e+00 -2.87544626e+00\n",
            "  -5.21703100e+00 -6.12579511e+00 -2.86237987e+00 -2.91537874e+00]\n",
            " [-5.21703100e+00 -2.86245254e+00 -2.85076275e+00 -5.89284970e+00\n",
            "  -4.68559000e+00 -6.12579511e+00 -2.90156586e+00  7.49256011e+01]\n",
            " [-4.68559000e+00 -3.05804712e+00 -3.08761530e+00 -3.43900000e+00\n",
            "  -5.21703100e+00 -5.69532790e+00 -4.68559000e+00  3.10793441e+01]\n",
            " [-4.68559000e+00 -2.55268527e+00 -3.43900000e+00 -3.43900000e+00\n",
            "  -2.71000000e+00 -3.43900000e+00  2.80949450e+01 -2.26470118e+00]\n",
            " [-4.09510000e+00 -1.79881032e+00 -2.82668866e+00 -1.76669338e+00\n",
            "  -2.71000000e+00 -1.90000000e+00  8.98757645e+01 -3.43900000e+00]\n",
            " [-1.90000000e+00  8.82865634e+00 -1.90000000e+00 -1.47636407e+00\n",
            "  -2.22793843e+00 -1.90000000e+00 -1.44798968e+00 -1.40417814e+00]\n",
            " [-4.05358163e+00 -3.15714926e+00 -5.33802311e+00 -3.27878994e+00\n",
            "  -3.25229458e+00 -6.12579511e+00  3.52091727e+01 -7.71232075e+00]\n",
            " [ 1.31786412e+01  4.20095497e+01  4.47441665e+00  3.33765544e+01\n",
            "   4.16234144e+01  3.04893467e+00  9.67835694e+01  7.71209208e+00]\n",
            " [-2.70020875e+00  8.62426545e+01 -2.79493339e+00 -2.73004443e+00\n",
            "  -7.17570464e+00 -2.74569074e+00 -2.71304973e+00 -2.76837659e+00]\n",
            " [-2.91714262e+00 -2.38044336e+00 -2.35642294e+00 -4.12009798e+00\n",
            "  -3.64689166e+00 -2.46407616e+00 -2.37941075e+00  8.95292059e+01]\n",
            " [-1.90000000e+00 -1.30294506e+00 -1.34865359e+00 -1.26026108e+00\n",
            "  -4.09510000e+00 -1.90000000e+00  1.20347846e+02 -1.23293326e+00]\n",
            " [-1.90000000e+00 -1.07290840e+00 -1.90000000e+00 -7.04359743e-01\n",
            "  -1.10910182e+00 -2.71000000e+00  1.31373135e+02 -1.05835708e+00]\n",
            " [-1.08928672e+00  1.27375551e+02 -1.31146351e+00 -1.22389915e+00\n",
            "  -1.30631522e+00 -2.71000000e+00 -1.28362393e+00 -1.12784774e+00]\n",
            " [-2.93127934e+00  4.42960514e+01 -6.61601401e+00 -2.60631200e+00\n",
            "  -2.89954052e+00 -8.48033057e+00 -2.88994731e+00 -6.87994404e+00]\n",
            " [-2.67892401e+00 -2.67829414e+00 -2.97883154e+00 -2.98242501e+00\n",
            "   2.34662957e+00 -3.33294926e+00  9.95825305e+01 -2.66631621e+00]\n",
            " [ 1.51509207e+01  1.02840100e+02  3.30387267e+01  3.49996307e+01\n",
            "  -1.24634744e+00  4.60856449e+01  2.53151751e+01  2.70190197e+01]\n",
            " [-1.71474211e+00 -1.77023533e+00 -1.70432742e+00 -1.80308817e+00\n",
            "  -2.03851000e+00 -1.83869741e+00  1.05691570e+02 -1.83672491e+00]\n",
            " [ 8.82409522e+00  2.81788276e+01  3.04841294e+01  4.30913694e+01\n",
            "   7.27106282e+00  8.44230043e+00  1.24057883e+02  2.49910845e+01]\n",
            " [ 2.82472365e+01  4.87627422e+01  1.79511341e+00  1.31639877e+02\n",
            "   2.71491758e+01 -4.09510000e+00  2.28877399e+01  2.99902676e+01]\n",
            " [ 5.07953910e+01  3.92207338e+01  2.61344942e+01  3.47341899e+01\n",
            "   5.64492323e+00  3.57389092e+01  1.39620923e+02  7.57783323e+01]\n",
            " [-2.67653919e+00 -2.54760853e+00 -3.48022050e+00 -2.58693386e+00\n",
            "   8.79502976e+01 -5.96189404e+00 -2.61789228e+00 -5.64424079e+00]\n",
            " [-2.43770234e+00 -2.39378202e+00 -2.40497601e+00 -2.36964677e+00\n",
            "   8.32725418e+01 -2.43762011e+00 -2.51637494e+00 -2.37877451e+00]\n",
            " [ 5.75205567e+01  1.41197572e+01  2.95067623e+01  5.60948006e+01\n",
            "   3.84353630e+01  3.42189245e+01  1.09267277e+02 -1.54342386e-01]\n",
            " [ 2.11731242e+01  4.55012278e+01  4.14170431e+01  2.07791472e+01\n",
            "   2.05587112e+01  4.99810510e+01  1.16510832e+02  1.04720627e+01]\n",
            " [-6.06159956e-01 -5.89078903e-01  7.04314547e+00  1.19331556e+01\n",
            "   3.18980014e+01 -7.19072694e-01  1.20117324e+02 -5.66835309e-01]\n",
            " [ 2.62175076e+01  2.36081482e+01  1.02032046e+01  2.42247490e+01\n",
            "   1.31639877e+02  2.11732925e+01  3.47547173e+00  4.00103298e+01]\n",
            " [-2.10610250e-01 -2.71000000e-01 -3.34237913e-01 -4.73329084e-01\n",
            "  -2.48548731e-01 -3.01902629e-01 -4.28672033e-01  1.14266247e+02]\n",
            " [ 1.67754543e+01  1.48022025e+02  4.11874376e+01  5.99049916e+00\n",
            "   1.79037500e+01  4.31105665e+01  1.21304796e+01 -1.16057375e-01]\n",
            " [-2.23793840e+00 -2.25410187e+00 -2.20982359e+00 -2.82373593e+00\n",
            "  -2.18471996e+00  3.54750775e+01 -2.66115259e+00 -2.22216727e+00]\n",
            " [-1.52367246e+00 -1.46203155e+00 -1.48859291e+00 -1.48386458e+00\n",
            "   5.70685191e+01 -1.47710002e+00 -1.45844372e+00 -1.51075278e+00]\n",
            " [ 8.38497114e+00 -6.45274133e-01 -9.98116550e-01  1.08465627e+01\n",
            "  -9.27882413e-01  9.39458484e+00  1.15273702e+02 -1.06116993e+00]\n",
            " [ 1.96405716e+00 -2.98876244e-01  1.05897051e+01  1.21905386e+02\n",
            "   3.34120291e+01 -3.94536165e-01 -3.14420741e-02  2.04162707e+01]\n",
            " [-1.37721056e-01 -1.90000000e-01 -1.18050000e-01 -1.00000000e-01\n",
            "  -7.31120500e-02 -1.40618200e-01 -1.00000000e-01  1.15127075e+02]\n",
            " [ 3.75871211e+01 -1.00000000e-01  1.23157883e+01 -2.60976530e-01\n",
            "  -2.89053303e-01 -1.49624049e-01 -2.83215684e-01 -1.00000000e-01]\n",
            " [-2.29611911e+00 -2.09267582e+00 -7.71232075e+00 -2.08207929e+00\n",
            "  -2.15200202e+00 -8.63160358e+00 -2.10828339e+00 -9.35389181e+00]\n",
            " [-2.11112705e+00 -2.08102305e+00 -2.14265948e+00 -2.92675596e+00\n",
            "  -3.00593196e+00  6.43206076e+01 -2.30941850e+00 -2.22841861e+00]\n",
            " [-1.35206135e+00 -1.22358625e+00 -1.33797993e+00 -1.25207557e+00\n",
            "  -1.20594232e+00 -1.28314189e+00 -1.20735240e+00 -1.34017134e+00]\n",
            " [-7.17465391e-01 -5.92549813e-01 -6.85816100e-01 -6.16902751e-01\n",
            "   1.11795442e+01 -6.95500390e-01 -5.69176711e-01 -6.43799751e-01]\n",
            " [-1.65364699e-01 -1.10804231e-01  1.07899682e+01 -9.20784981e-02\n",
            "   1.22896657e+02  0.00000000e+00  1.07854989e+00  0.00000000e+00]\n",
            " [ 2.35709978e+01  0.00000000e+00  0.00000000e+00  0.00000000e+00\n",
            "   0.00000000e+00  0.00000000e+00  0.00000000e+00  0.00000000e+00]\n",
            " [-1.00000000e-01 -1.00000000e-01 -1.00000000e-01  0.00000000e+00\n",
            "   0.00000000e+00  0.00000000e+00  0.00000000e+00  0.00000000e+00]\n",
            " [-2.21930156e+00 -3.43900000e+00 -3.43900000e+00 -2.20939438e+00\n",
            "  -9.13617581e-01 -3.43900000e+00 -3.43900000e+00 -2.71000000e+00]\n",
            " [-1.82304167e+00 -5.21703100e+00 -1.93122278e+00 -2.01219581e+00\n",
            "  -2.42204337e+00 -1.82081800e+00 -4.09510000e+00 -6.12579511e+00]\n",
            " [-1.04881399e+00 -2.71000000e+00 -1.04658001e+00 -1.07478233e+00\n",
            "  -1.06148273e+00 -1.19257977e+00 -1.42170310e+00 -1.90000000e+00]\n",
            " [-2.38919474e-01 -1.99500000e-01 -2.46167292e-01 -1.90000000e-01\n",
            "  -2.44817205e-01 -1.54487440e-01 -1.00000000e+00 -1.00000000e+00]\n",
            " [-1.18050000e-01 -1.00000000e-01  0.00000000e+00  0.00000000e+00\n",
            "   0.00000000e+00  0.00000000e+00  0.00000000e+00  0.00000000e+00]\n",
            " [ 0.00000000e+00  0.00000000e+00  0.00000000e+00  0.00000000e+00\n",
            "   0.00000000e+00  0.00000000e+00  0.00000000e+00  0.00000000e+00]\n",
            " [-1.00000000e-01  0.00000000e+00  0.00000000e+00  0.00000000e+00\n",
            "   0.00000000e+00  0.00000000e+00  0.00000000e+00  0.00000000e+00]\n",
            " [ 0.00000000e+00  0.00000000e+00  0.00000000e+00  0.00000000e+00\n",
            "   0.00000000e+00  0.00000000e+00  0.00000000e+00  0.00000000e+00]\n",
            " [ 0.00000000e+00  0.00000000e+00  0.00000000e+00  0.00000000e+00\n",
            "   0.00000000e+00  0.00000000e+00  0.00000000e+00  0.00000000e+00]\n",
            " [ 0.00000000e+00  0.00000000e+00  0.00000000e+00  0.00000000e+00\n",
            "   0.00000000e+00  0.00000000e+00  0.00000000e+00  0.00000000e+00]\n",
            " [ 0.00000000e+00  0.00000000e+00  0.00000000e+00  0.00000000e+00\n",
            "   0.00000000e+00  0.00000000e+00  0.00000000e+00  0.00000000e+00]\n",
            " [ 0.00000000e+00  0.00000000e+00  0.00000000e+00  0.00000000e+00\n",
            "   0.00000000e+00  0.00000000e+00  0.00000000e+00  0.00000000e+00]\n",
            " [ 0.00000000e+00  0.00000000e+00  0.00000000e+00  0.00000000e+00\n",
            "   0.00000000e+00  0.00000000e+00  0.00000000e+00  0.00000000e+00]\n",
            " [ 0.00000000e+00  0.00000000e+00  0.00000000e+00  0.00000000e+00\n",
            "   0.00000000e+00  0.00000000e+00  0.00000000e+00  0.00000000e+00]\n",
            " [ 0.00000000e+00  0.00000000e+00  0.00000000e+00  0.00000000e+00\n",
            "   0.00000000e+00  0.00000000e+00  0.00000000e+00  0.00000000e+00]\n",
            " [ 0.00000000e+00  0.00000000e+00  0.00000000e+00  0.00000000e+00\n",
            "   0.00000000e+00  0.00000000e+00  0.00000000e+00  0.00000000e+00]\n",
            " [ 0.00000000e+00  0.00000000e+00  0.00000000e+00  0.00000000e+00\n",
            "   0.00000000e+00  0.00000000e+00  0.00000000e+00  0.00000000e+00]\n",
            " [ 0.00000000e+00  0.00000000e+00  0.00000000e+00  0.00000000e+00\n",
            "   0.00000000e+00  0.00000000e+00  0.00000000e+00  0.00000000e+00]\n",
            " [ 0.00000000e+00  0.00000000e+00  0.00000000e+00  0.00000000e+00\n",
            "   0.00000000e+00  0.00000000e+00  0.00000000e+00  0.00000000e+00]\n",
            " [ 0.00000000e+00  0.00000000e+00  0.00000000e+00  0.00000000e+00\n",
            "   0.00000000e+00  0.00000000e+00  0.00000000e+00  0.00000000e+00]\n",
            " [ 0.00000000e+00  0.00000000e+00  0.00000000e+00  0.00000000e+00\n",
            "   0.00000000e+00  0.00000000e+00  0.00000000e+00  0.00000000e+00]]\n"
          ]
        }
      ],
      "source": [
        "# Print updated Q-table\n",
        "print(\"\\n\\n********Q-table********\\n\")\n",
        "print(q_table_1)"
      ]
    },
    {
      "cell_type": "code",
      "execution_count": null,
      "metadata": {
        "id": "rbrivNYEAkXZ",
        "outputId": "98eb6ef8-460a-452f-af7e-602681f49316"
      },
      "outputs": [
        {
          "name": "stdout",
          "output_type": "stream",
          "text": [
            "[[3 1 7 7 6 6 1 6 6 1 7 6 6 1 1 6 1 6 6 3 6 4 4 6 6 6 4 7 1 5 4 6 3 7 0 3\n",
            "  5 4 4 4 0 3 4 5 2 5 2 0 1 0 0 0 0 0 0 0 0 0 0 0 0 0 0]]\n"
          ]
        }
      ],
      "source": [
        "def best_pos_max(matrix):\n",
        "    posiciones_maximas = np.argmax(matrix, axis=1)\n",
        "    matriz_resultante = posiciones_maximas.reshape(1, -1)\n",
        "    return matriz_resultante\n",
        "\n",
        "pos_best_moves = best_pos_max(q_table_1)\n",
        "print(pos_best_moves)"
      ]
    },
    {
      "attachments": {},
      "cell_type": "markdown",
      "metadata": {
        "id": "4UpBcmYbBs-O"
      },
      "source": [
        "Here, we identify  the best actions for each state based on the Q values in the q_table_1 matrix, these Q values represent the expected reward for taking those actions in each state"
      ]
    },
    {
      "cell_type": "code",
      "execution_count": null,
      "metadata": {
        "id": "S-0GEA2PAkXZ",
        "outputId": "b14a18c4-8fc0-4ec6-d85b-e167209e6e69"
      },
      "outputs": [
        {
          "name": "stdout",
          "output_type": "stream",
          "text": [
            "[[ 25.14277621]\n",
            " [ 69.55073697]\n",
            " [ 74.92560113]\n",
            " [ 31.07934406]\n",
            " [ 28.09494502]\n",
            " [ 89.87576453]\n",
            " [  8.82865634]\n",
            " [ 35.20917269]\n",
            " [ 96.78356937]\n",
            " [ 86.24265446]\n",
            " [ 89.52920593]\n",
            " [120.34784551]\n",
            " [131.37313523]\n",
            " [127.37555126]\n",
            " [ 44.29605139]\n",
            " [ 99.58253049]\n",
            " [102.84009981]\n",
            " [105.69157031]\n",
            " [124.05788341]\n",
            " [131.63987727]\n",
            " [139.62092344]\n",
            " [ 87.95029755]\n",
            " [ 83.27254178]\n",
            " [109.26727658]\n",
            " [116.51083174]\n",
            " [120.11732434]\n",
            " [131.63987727]\n",
            " [114.26624671]\n",
            " [148.02202468]\n",
            " [ 35.47507749]\n",
            " [ 57.06851914]\n",
            " [115.27370206]\n",
            " [121.90538583]\n",
            " [115.12707492]\n",
            " [ 37.58712111]\n",
            " [ -2.08207929]\n",
            " [ 64.3206076 ]\n",
            " [ -1.20594232]\n",
            " [ 11.17954425]\n",
            " [122.89665712]\n",
            " [ 23.57099785]\n",
            " [  0.        ]\n",
            " [ -0.91361758]\n",
            " [ -1.820818  ]\n",
            " [ -1.04658001]\n",
            " [ -0.15448744]\n",
            " [  0.        ]\n",
            " [  0.        ]\n",
            " [  0.        ]\n",
            " [  0.        ]\n",
            " [  0.        ]\n",
            " [  0.        ]\n",
            " [  0.        ]\n",
            " [  0.        ]\n",
            " [  0.        ]\n",
            " [  0.        ]\n",
            " [  0.        ]\n",
            " [  0.        ]\n",
            " [  0.        ]\n",
            " [  0.        ]\n",
            " [  0.        ]\n",
            " [  0.        ]\n",
            " [  0.        ]]\n"
          ]
        }
      ],
      "source": [
        "index_array = np.argmax(q_table_1, axis=-1)\n",
        "best_moves = np.take_along_axis(q_table_1, np.expand_dims(index_array, axis=-1), axis=-1)\n",
        "print(best_moves)"
      ]
    },
    {
      "attachments": {},
      "cell_type": "markdown",
      "metadata": {
        "id": "aeCJwlkUCZYT"
      },
      "source": [
        "The following code finds the best actions (action indices) for each state based on the Q values stored in the q_table_1 array and stores them in the state_best_actions list. Then, it creates an arrow_matrix matrix that shows the arrow representations corresponding to the best actions for each state."
      ]
    },
    {
      "cell_type": "code",
      "execution_count": null,
      "metadata": {
        "id": "16M2lgSCAkXZ",
        "outputId": "c3440b3b-3d51-441c-d68d-856c30d1f9af"
      },
      "outputs": [
        {
          "name": "stdout",
          "output_type": "stream",
          "text": [
            "[3, 1, 7, 7, 6, 6, 1, 6, 6, 1, 7, 6, 6, 1, 1, 6, 1, 6, 6, 3, 6, 4, 4, 6, 6, 6, 4, 7, 1, 5, 4, 6, 3, 7, 0, 3, 5, 4, 4, 4, 0, 3, 4, 5, 2, 5, 2, 0, 1, 0, 0, 0, 0, 0, 0, 0, 0, 0, 0, 0, 0, 0, 0]\n",
            "[[3 1 7 7 6 6 1 6 6]\n",
            " [1 7 6 6 1 1 6 1 6]\n",
            " [6 3 6 4 4 6 6 6 4]\n",
            " [7 1 5 4 6 3 7 0 3]\n",
            " [5 4 4 4 0 3 4 5 2]\n",
            " [5 2 0 1 0 0 0 0 0]\n",
            " [0 0 0 0 0 0 0 0 0]]\n"
          ]
        }
      ],
      "source": [
        "# action_space = [up, down, left, right, ...] \n",
        "state_best_actions =[]\n",
        "arrow_matrix = []\n",
        "for i in range(q_table_1.shape[0]):\n",
        "    max_pos = np.argmax(q_table_1[i])\n",
        "    state_best_actions.append(max_pos)\n",
        "arrow_matrix = np.array(state_best_actions).reshape(7,9)\n",
        "\n",
        "print(state_best_actions)\n",
        "print(arrow_matrix)"
      ]
    },
    {
      "attachments": {},
      "cell_type": "markdown",
      "metadata": {
        "id": "9yXr4H6SC2Mh"
      },
      "source": [
        "Here we extract the best actions from the Q table and represent them in a matrix that shows the directions of the actions for each state on the map"
      ]
    },
    {
      "attachments": {},
      "cell_type": "markdown",
      "metadata": {
        "id": "if8w0bruDgxv"
      },
      "source": [
        "First an empty list named state_best_actions is created to store the best actions (action indices) for each state and an empty array named arrow_matrix to store the arrow representations corresponding to the best actions for each state.\n",
        "Then, in a loop, the rows of the q_table array are traversed and the function np.argmax(q_table[i]) is used to find the index of the action with the maximum Q value for each state i, this index represents the best action for that state.\n",
        "The best action index is added to the state_best_actions list. Also, convert the state_best_actions list to a NumPy array and\n",
        "reshape(map.shape[0], map.shape[1]) is used to shape the arrow_matrix using the dimensions of the map.\n",
        "\n",
        "Finally, the arrow_matrix matrix is returned, representing the best actions for each map state."
      ]
    },
    {
      "cell_type": "code",
      "execution_count": null,
      "metadata": {
        "id": "osceUMHXAkXZ"
      },
      "outputs": [],
      "source": [
        "def policies_matrix(q_table, map):\n",
        "    state_best_actions =[]\n",
        "    arrow_matrix = []\n",
        "    for i in range(q_table.shape[0]):\n",
        "        max_pos = np.argmax(q_table[i])\n",
        "        state_best_actions.append(max_pos)\n",
        "    arrow_matrix = np.array(state_best_actions).reshape(map.shape[0], map.shape[1])\n",
        "    return arrow_matrix"
      ]
    },
    {
      "cell_type": "code",
      "execution_count": null,
      "metadata": {
        "id": "ueXMNHO6AkXa",
        "outputId": "e18bf4c9-7bc5-4c45-8228-0df34c9982ee"
      },
      "outputs": [
        {
          "name": "stdout",
          "output_type": "stream",
          "text": [
            "[[3 1 7 7 6 6 1 6 6]\n",
            " [1 7 6 6 1 1 6 1 6]\n",
            " [6 3 6 4 4 6 6 6 4]\n",
            " [7 1 5 4 6 3 7 0 3]\n",
            " [5 4 4 4 0 3 4 5 2]\n",
            " [5 2 0 1 0 0 0 0 0]\n",
            " [0 0 0 0 0 0 0 0 0]]\n"
          ]
        }
      ],
      "source": [
        "policies_matrix = policies_matrix(q_table_1, map)\n",
        "print(policies_matrix)"
      ]
    },
    {
      "attachments": {},
      "cell_type": "markdown",
      "metadata": {
        "id": "UuWyeIZgHh__"
      },
      "source": [
        "# Optimal Policy"
      ]
    },
    {
      "attachments": {},
      "cell_type": "markdown",
      "metadata": {
        "id": "WTgH84D7HgPb"
      },
      "source": [
        "The show_optimal_policy function displays a graphical representation of the map and the optimal policies for each state on the map. Colors and Unicode arrows are used to visualize different types of cells and the best actions to take from each state. The map is displayed with a color palette representing empty spaces, the starting point, and the goal. Arrow texts are added in each cell of the map to indicate the corresponding best action. Parameters such as row and column labels, color palette, normalization, and Unicode arrows are used to configure and customize the map's rendering and optimal policies. At the end, the resulting graph is displayed."
      ]
    },
    {
      "cell_type": "code",
      "execution_count": null,
      "metadata": {
        "id": "6K_pi3jLAkXa"
      },
      "outputs": [],
      "source": [
        "def show_optimal_policy(map):\n",
        "    row_labels, col_labels = range(map.shape[0]), range(map.shape[1])\n",
        "    cmap = ListedColormap(['white', 'blueviolet', 'yellowgreen'])\n",
        "    norm = Normalize(vmin=0, vmax=2) # normalization for color values using\n",
        "    plt.matshow(map, cmap=cmap, norm=norm)\n",
        "    plt.xticks(col_labels, col_labels)\n",
        "    plt.yticks(row_labels, row_labels)\n",
        "    plt.grid(color='k', linewidth=1)\n",
        "    init = np.where(map == 1)\n",
        "    plt.text(init[1][0], init[0][0], 'H', ha='center', va='center', color='white', weight='bold', backgroundcolor='blueviolet', fontsize=20)\n",
        "    goal = np.where(map == 2)\n",
        "    plt.text(goal[1][0], goal[0][0], 'S', ha='center', va='center', color='white', weight='bold', backgroundcolor='yellowgreen', fontsize=20)\n",
        "\n",
        "    arrows = ['\\u2191', '\\u2193', '\\u2190', '\\u2192', '\\u2197', '\\u2196', '\\u2199', '\\u2198']\n",
        "    for i, row in enumerate(map):\n",
        "        for j, cell in enumerate(row):\n",
        "            if cell == 0:\n",
        "                plt.text(j, i, arrows[0], ha='center', va='center', color='black', weight='bold', backgroundcolor='lightblue', fontsize=20)\n",
        "            elif cell == 1:\n",
        "                plt.text(j, i, arrows[1], ha='center', va='center', color='black', weight='bold', backgroundcolor='lightblue', fontsize=20)\n",
        "            elif cell == 2:\n",
        "                plt.text(j, i, arrows[2], ha='center', va='center', color='black', backgroundcolor='lightblue', fontsize=20)\n",
        "            elif cell == 3:\n",
        "                plt.text(j, i, arrows[3], ha='center', va='center', color='black', backgroundcolor='lightblue', fontsize=20)\n",
        "            elif cell == 4:\n",
        "                plt.text(j, i, arrows[4], ha='center', va='center', color='black', backgroundcolor='lightblue', fontsize=20)\n",
        "            elif cell == 5:\n",
        "                plt.text(j, i, arrows[5], ha='center', va='center', color='black', backgroundcolor='lightblue', fontsize=20)\n",
        "            elif cell == 6:\n",
        "                plt.text(j, i, arrows[6], ha='center', va='center', color='black', backgroundcolor='lightblue', fontsize=20)\n",
        "            elif cell == 7:\n",
        "                plt.text(j, i, arrows[7], ha='center', va='center', color='black', backgroundcolor='lightblue', fontsize=20)\n",
        "\n",
        "    plt.show()"
      ]
    },
    {
      "cell_type": "code",
      "execution_count": null,
      "metadata": {
        "id": "oLwdmcp1AkXa",
        "outputId": "fc83e90d-bb12-43a6-ca92-fb815554a7e0"
      },
      "outputs": [
        {
          "data": {
            "image/png": "[encoded data removed]",
            "text/plain": [
              "<Figure size 370.286x288 with 1 Axes>"
            ]
          },
          "metadata": {
            "needs_background": "light"
          },
          "output_type": "display_data"
        }
      ],
      "source": [
        "env.render()"
      ]
    },
    {
      "cell_type": "code",
      "execution_count": null,
      "metadata": {
        "id": "qK-6-b3QAkXb",
        "outputId": "dd781c12-72b6-430e-f6b6-26b08ff6aa36"
      },
      "outputs": [
        {
          "name": "stdout",
          "output_type": "stream",
          "text": [
            "Harry init action: down_left\n",
            "Harry end action: up_left\n"
          ]
        },
        {
          "data": {
            "image/png": "[encoded data removed]",
            "text/plain": [
              "<Figure size 370.286x288 with 1 Axes>"
            ]
          },
          "metadata": {
            "needs_background": "light"
          },
          "output_type": "display_data"
        }
      ],
      "source": [
        "print('Harry init action:', actions[arrow_matrix[1][1]])\n",
        "print('Harry end action:', actions[arrow_matrix[4][7]])\n",
        "arrow_matrix[1][1] = -2\n",
        "arrow_matrix[4][7] = -3\n",
        "show_optimal_policy(arrow_matrix)"
      ]
    },
    {
      "cell_type": "code",
      "execution_count": null,
      "metadata": {
        "id": "DoaPdaXwAkXm",
        "outputId": "51a745ec-f0b6-4856-e1fe-fa023fc79db6"
      },
      "outputs": [
        {
          "data": {
            "text/plain": [
              "'\\nfor episode in range(50):\\n    env_copy = copy(env)\\n    state = env_copy.reset()\\n    done = False\\n    print(\"*****EPISODE \", episode+1, \"*****\\n\\n\\n\\n\")\\n    time.sleep(1)\\n    \\n    for step in range(max_steps_per_episode):        \\n        clear_output(wait=True)\\n        env_copy.render()\\n        time.sleep(0.3)\\n        \\n        action = np.argmax(q_table[state,:])        \\n        new_state, reward, done = env_copy.step(action)\\n        \\n        if done:\\n            clear_output(wait=True)\\n            env_copy.render()\\n            if reward == goal_reward:\\n                print(\"****You reached the goal!****\")\\n                time.sleep(3)\\n            elif reward == fall_reward:\\n                print(\"****You fell through the map!****\")\\n                time.sleep(1)\\n                clear_output(wait=True)\\n\\n            break\\n            \\n        state = new_state\\n        #env.close()\\n'"
            ]
          },
          "execution_count": 524,
          "metadata": {},
          "output_type": "execute_result"
        }
      ],
      "source": [
        "\"\"\"\n",
        "for episode in range(50):\n",
        "    env_copy = copy(env)\n",
        "    state = env_copy.reset()\n",
        "    done = False\n",
        "    print(\"*****EPISODE \", episode+1, \"*****\\n\\n\\n\\n\")\n",
        "    time.sleep(1)\n",
        "    \n",
        "    for step in range(max_steps_per_episode):        \n",
        "        clear_output(wait=True)\n",
        "        env_copy.render()\n",
        "        time.sleep(0.3)\n",
        "        \n",
        "        action = np.argmax(q_table[state,:])        \n",
        "        new_state, reward, done = env_copy.step(action)\n",
        "        \n",
        "        if done:\n",
        "            clear_output(wait=True)\n",
        "            env_copy.render()\n",
        "            if reward == goal_reward:\n",
        "                print(\"****You reached the goal!****\")\n",
        "                time.sleep(3)\n",
        "            elif reward == fall_reward:\n",
        "                print(\"****You fell through the map!****\")\n",
        "                time.sleep(1)\n",
        "                clear_output(wait=True)\n",
        "\n",
        "            break\n",
        "            \n",
        "        state = new_state\n",
        "        #env.close()\n",
        "\"\"\""
      ]
    },
    {
      "cell_type": "code",
      "execution_count": null,
      "metadata": {
        "id": "I5eoo-HpAkXm"
      },
      "outputs": [],
      "source": []
    }
  ],
  "metadata": {
    "colab": {
      "provenance": []
    },
    "kernelspec": {
      "display_name": "mytest",
      "language": "python",
      "name": "python3"
    },
    "language_info": {
      "codemirror_mode": {
        "name": "ipython",
        "version": 3
      },
      "file_extension": ".py",
      "mimetype": "text/x-python",
      "name": "python",
      "nbconvert_exporter": "python",
      "pygments_lexer": "ipython3",
      "version": "3.6.13"
    },
    "orig_nbformat": 4
  },
  "nbformat": 4,
  "nbformat_minor": 0
}
